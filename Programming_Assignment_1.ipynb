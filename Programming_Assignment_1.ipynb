{
 "cells": [
  {
   "cell_type": "code",
   "execution_count": 1,
   "id": "e4c557e2",
   "metadata": {},
   "outputs": [
    {
     "name": "stdout",
     "output_type": "stream",
     "text": [
      "Hello Python\n"
     ]
    }
   ],
   "source": [
    "#solution 1\n",
    "print(\"Hello Python\")"
   ]
  },
  {
   "cell_type": "code",
   "execution_count": 2,
   "id": "0deee884",
   "metadata": {},
   "outputs": [
    {
     "name": "stdout",
     "output_type": "stream",
     "text": [
      "Addition: 15\n",
      "Division: 2.0\n"
     ]
    }
   ],
   "source": [
    "#solution 2\n",
    "num1 = 10\n",
    "num2 = 5\n",
    "\n",
    "addition = num1 + num2\n",
    "division = num1 / num2\n",
    "\n",
    "print(\"Addition:\", addition)\n",
    "print(\"Division:\", division)\n"
   ]
  },
  {
   "cell_type": "code",
   "execution_count": 3,
   "id": "2658b966",
   "metadata": {},
   "outputs": [
    {
     "name": "stdout",
     "output_type": "stream",
     "text": [
      "Area of the triangle: 25.0\n"
     ]
    }
   ],
   "source": [
    "\n",
    "#solution 3\n",
    "base = 10\n",
    "height = 5\n",
    "\n",
    "area = 0.5 * base * height\n",
    "\n",
    "print(\"Area of the triangle:\", area)\n"
   ]
  },
  {
   "cell_type": "code",
   "execution_count": 4,
   "id": "62b67f33",
   "metadata": {},
   "outputs": [
    {
     "name": "stdout",
     "output_type": "stream",
     "text": [
      "Before swapping:\n",
      "a = 5\n",
      "b = 10\n",
      "After swapping:\n",
      "a = 10\n",
      "b = 5\n"
     ]
    }
   ],
   "source": [
    "#solution 4\n",
    "a = 5\n",
    "b = 10\n",
    "\n",
    "print(\"Before swapping:\")\n",
    "print(\"a =\", a)\n",
    "print(\"b =\", b)\n",
    "\n",
    "# Swap the variables\n",
    "temp = a\n",
    "a = b\n",
    "b = temp\n",
    "\n",
    "print(\"After swapping:\")\n",
    "print(\"a =\", a)\n",
    "print(\"b =\", b)\n",
    "\n"
   ]
  },
  {
   "cell_type": "code",
   "execution_count": 5,
   "id": "28ad0f18",
   "metadata": {},
   "outputs": [
    {
     "name": "stdout",
     "output_type": "stream",
     "text": [
      "Random number: 47\n"
     ]
    }
   ],
   "source": [
    "#solution 5\n",
    "import random\n",
    "\n",
    "random_number = random.randint(1, 100)\n",
    "\n",
    "print(\"Random number:\", random_number)\n"
   ]
  }
 ],
 "metadata": {
  "kernelspec": {
   "display_name": "Python 3 (ipykernel)",
   "language": "python",
   "name": "python3"
  },
  "language_info": {
   "codemirror_mode": {
    "name": "ipython",
    "version": 3
   },
   "file_extension": ".py",
   "mimetype": "text/x-python",
   "name": "python",
   "nbconvert_exporter": "python",
   "pygments_lexer": "ipython3",
   "version": "3.10.9"
  }
 },
 "nbformat": 4,
 "nbformat_minor": 5
}
