{
 "cells": [
  {
   "cell_type": "code",
   "execution_count": 23,
   "id": "02516501",
   "metadata": {},
   "outputs": [
    {
     "name": "stdout",
     "output_type": "stream",
     "text": [
      "[10, 15, 20, 25]\n"
     ]
    }
   ],
   "source": [
    "#solution 1\n",
    "def divisible_by_range(x, y, n):\n",
    "    divisible_numbers = [num for num in range(x, y+1) if num % n == 0]\n",
    "    return divisible_numbers\n",
    "\n",
    "\n",
    "start = 10\n",
    "end = 25\n",
    "divisor = 5\n",
    "result = divisible_by_range(start, end, divisor)\n",
    "print(result)\n",
    "\n"
   ]
  },
  {
   "cell_type": "code",
   "execution_count": 27,
   "id": "e4c9c8df",
   "metadata": {},
   "outputs": [
    {
     "name": "stdout",
     "output_type": "stream",
     "text": [
      "False\n"
     ]
    }
   ],
   "source": [
    "#solution 2\n",
    "\n",
    "def is_shifted_list(first_list, second_list):\n",
    "    if len(first_list) + 1 != len(second_list):\n",
    "        return False\n",
    "    \n",
    "    for i in range(len(first_list)):\n",
    "        if first_list[i] != second_list[i]:\n",
    "            return True\n",
    "    \n",
    "    return True\n",
    "\n",
    "list1 = [1, 2, 3, 4, 5]\n",
    "list2 = [5, 1, 2, 3, 4]\n",
    "result = is_shifted_list(list1, list2)\n",
    "print(result)\n",
    "\n"
   ]
  },
  {
   "cell_type": "code",
   "execution_count": 29,
   "id": "b1941be9",
   "metadata": {},
   "outputs": [
    {
     "name": "stdout",
     "output_type": "stream",
     "text": [
      "ABCD\n"
     ]
    }
   ],
   "source": [
    "#solution 3\n",
    "def secret_society(names):\n",
    "    society_name = ''.join(sorted([name[0] for name in names]))\n",
    "    return society_name\n",
    "\n",
    "friend_names = ['Alice', 'Bob', 'Charlie', 'Dave']\n",
    "print(secret_society(friend_names))  \n",
    "\n"
   ]
  },
  {
   "cell_type": "code",
   "execution_count": 30,
   "id": "2f65c7dd",
   "metadata": {},
   "outputs": [
    {
     "name": "stdout",
     "output_type": "stream",
     "text": [
      "True\n",
      "False\n"
     ]
    }
   ],
   "source": [
    "#solution 4 \n",
    "def is_isogram(string):\n",
    "    string = string.lower()\n",
    "\n",
    "    for char in string:\n",
    "        if string.count(char) > 1:\n",
    "            return False\n",
    "    \n",
    "    return True\n",
    "\n",
    "word1 = \"isogram\"\n",
    "print(is_isogram(word1)) \n",
    "word2 = \"hello\"\n",
    "print(is_isogram(word2))  \n"
   ]
  },
  {
   "cell_type": "code",
   "execution_count": 31,
   "id": "22d65195",
   "metadata": {},
   "outputs": [
    {
     "name": "stdout",
     "output_type": "stream",
     "text": [
      "True\n",
      "False\n"
     ]
    }
   ],
   "source": [
    "#solution 5\n",
    "def is_in_order(string):\n",
    "   \n",
    "    sorted_string = ''.join(sorted(string))\n",
    "    \n",
    "    \n",
    "    if sorted_string == string:\n",
    "        return True\n",
    "    else:\n",
    "        return False\n",
    "\n",
    "word1 = \"abcdef\"\n",
    "print(is_in_order(word1))  \n",
    "\n",
    "word2 = \"zyxwvu\"\n",
    "print(is_in_order(word2))  \n"
   ]
  }
 ],
 "metadata": {
  "kernelspec": {
   "display_name": "Python 3 (ipykernel)",
   "language": "python",
   "name": "python3"
  },
  "language_info": {
   "codemirror_mode": {
    "name": "ipython",
    "version": 3
   },
   "file_extension": ".py",
   "mimetype": "text/x-python",
   "name": "python",
   "nbconvert_exporter": "python",
   "pygments_lexer": "ipython3",
   "version": "3.10.9"
  }
 },
 "nbformat": 4,
 "nbformat_minor": 5
}
