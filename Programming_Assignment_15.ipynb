{
 "cells": [
  {
   "cell_type": "code",
   "execution_count": 26,
   "id": "704b8c69",
   "metadata": {},
   "outputs": [
    {
     "name": "stdout",
     "output_type": "stream",
     "text": [
      "Enter a number: 35\n",
      "0,35\n"
     ]
    }
   ],
   "source": [
    "#solution 1\n",
    "def divisible_by_5_and_7(n):\n",
    "    for num in range(n+1):\n",
    "        if num % 5 == 0 and num % 7 == 0:\n",
    "            yield num\n",
    "\n",
    "n = int(input(\"Enter a number: \"))\n",
    "result = ','.join(str(num) for num in divisible_by_5_and_7(n))\n",
    "print(result)\n",
    "\n"
   ]
  },
  {
   "cell_type": "code",
   "execution_count": 27,
   "id": "42d40feb",
   "metadata": {},
   "outputs": [
    {
     "name": "stdout",
     "output_type": "stream",
     "text": [
      "Enter a number: 4\n",
      "0,2,4\n"
     ]
    }
   ],
   "source": [
    "#solution 2\n",
    "def even_numbers(n):\n",
    "    for num in range(n+1):\n",
    "        if num % 2 == 0:\n",
    "            yield num\n",
    "\n",
    "n = int(input(\"Enter a number: \"))\n",
    "result = ','.join(str(num) for num in even_numbers(n))\n",
    "print(result)\n",
    "\n"
   ]
  },
  {
   "cell_type": "code",
   "execution_count": 29,
   "id": "9579b3ee",
   "metadata": {},
   "outputs": [
    {
     "name": "stdout",
     "output_type": "stream",
     "text": [
      "Enter a number: 5\n",
      "0,1,1,2,3,5\n"
     ]
    }
   ],
   "source": [
    "#solution 3\n",
    "def fibonacci_sequence(n):\n",
    "    sequence = [0, 1]\n",
    "    [sequence.append(sequence[-1] + sequence[-2]) for _ in range(2, n+1)]\n",
    "    return sequence\n",
    "\n",
    "n = int(input(\"Enter a number: \"))\n",
    "result = ','.join(str(num) for num in fibonacci_sequence(n))\n",
    "print(result)\n",
    "\n"
   ]
  },
  {
   "cell_type": "code",
   "execution_count": 30,
   "id": "6b2d6eee",
   "metadata": {},
   "outputs": [
    {
     "name": "stdout",
     "output_type": "stream",
     "text": [
      "Enter an email address: faiz@bogusmail.com\n",
      "faiz\n"
     ]
    }
   ],
   "source": [
    "#solution 4\n",
    " \n",
    "def extract_username(email):\n",
    "    username = email.split('@')[0]\n",
    "    return username\n",
    "email_address = input(\"Enter an email address: \")\n",
    "username = extract_username(email_address)\n",
    "print(username)\n",
    "\n"
   ]
  },
  {
   "cell_type": "code",
   "execution_count": 31,
   "id": "244abb1a",
   "metadata": {},
   "outputs": [
    {
     "name": "stdout",
     "output_type": "stream",
     "text": [
      "Area of Shape: 0\n",
      "Area of Square: 25\n"
     ]
    }
   ],
   "source": [
    "#solution 5\n",
    "class Shape:\n",
    "    def __init__(self):\n",
    "        self.area = 0\n",
    "    \n",
    "    def calculate_area(self):\n",
    "        print(\"Area of Shape:\", self.area)\n",
    "\n",
    "\n",
    "class Square(Shape):\n",
    "    def __init__(self, length):\n",
    "        super().__init__()\n",
    "        self.length = length\n",
    "    \n",
    "    def calculate_area(self):\n",
    "        self.area = self.length ** 2\n",
    "        print(\"Area of Square:\", self.area)\n",
    "\n",
    "shape = Shape()\n",
    "shape.calculate_area()\n",
    "square = Square(5)\n",
    "square.calculate_area() \n",
    "\n"
   ]
  }
 ],
 "metadata": {
  "kernelspec": {
   "display_name": "Python 3 (ipykernel)",
   "language": "python",
   "name": "python3"
  },
  "language_info": {
   "codemirror_mode": {
    "name": "ipython",
    "version": 3
   },
   "file_extension": ".py",
   "mimetype": "text/x-python",
   "name": "python",
   "nbconvert_exporter": "python",
   "pygments_lexer": "ipython3",
   "version": "3.10.9"
  }
 },
 "nbformat": 4,
 "nbformat_minor": 5
}
