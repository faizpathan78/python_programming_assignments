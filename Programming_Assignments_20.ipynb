{
 "cells": [
  {
   "cell_type": "code",
   "execution_count": 1,
   "id": "68501cf0",
   "metadata": {},
   "outputs": [
    {
     "name": "stdout",
     "output_type": "stream",
     "text": [
      "[3, 7, 5]\n"
     ]
    }
   ],
   "source": [
    "#solution 1\n",
    "def filter_integers(lst):\n",
    "    return [x for x in lst if isinstance(x, int)]\n",
    "\n",
    "mixed_list = ['apple', 3, 'banana', 7, 'carrot', 5]\n",
    "filtered_list = filter_integers(mixed_list)\n",
    "print(filtered_list) \n"
   ]
  },
  {
   "cell_type": "code",
   "execution_count": 2,
   "id": "13e6ecba",
   "metadata": {},
   "outputs": [
    {
     "name": "stdout",
     "output_type": "stream",
     "text": [
      "[1, 4, 7, 10, 13]\n"
     ]
    }
   ],
   "source": [
    "#solution 2\n",
    "def add_index_to_element(lst):\n",
    "    return [num + index for index, num in enumerate(lst)]\n",
    "\n",
    "numbers = [1, 3, 5, 7, 9]\n",
    "modified_list = add_index_to_element(numbers)\n",
    "print(modified_list) \n"
   ]
  },
  {
   "cell_type": "code",
   "execution_count": 3,
   "id": "5591b699",
   "metadata": {},
   "outputs": [
    {
     "name": "stdout",
     "output_type": "stream",
     "text": [
      "47.12\n"
     ]
    }
   ],
   "source": [
    "#solution 3\n",
    "import math\n",
    "\n",
    "def calculate_cone_volume(height, radius):\n",
    "    volume = (1/3) * math.pi * radius**2 * height\n",
    "    rounded_volume = round(volume, 2)\n",
    "    return rounded_volume\n",
    "\n",
    "height = 5\n",
    "radius = 3\n",
    "cone_volume = calculate_cone_volume(height, radius)\n",
    "print(cone_volume) "
   ]
  },
  {
   "cell_type": "code",
   "execution_count": 4,
   "id": "0290509f",
   "metadata": {},
   "outputs": [
    {
     "name": "stdout",
     "output_type": "stream",
     "text": [
      "10\n"
     ]
    }
   ],
   "source": [
    "#solution 4\n",
    "def calculate_triangle_dots(n):\n",
    "    dots = (n * (n + 1)) // 2\n",
    "    return dots\n",
    "triangle_number = 4\n",
    "dots = calculate_triangle_dots(triangle_number)\n",
    "print(dots)  \n"
   ]
  },
  {
   "cell_type": "code",
   "execution_count": 5,
   "id": "a5b2e745",
   "metadata": {},
   "outputs": [
    {
     "name": "stdout",
     "output_type": "stream",
     "text": [
      "5\n"
     ]
    }
   ],
   "source": [
    "#solution 5\n",
    "def find_missing_number(numbers):\n",
    "    all_numbers = set(range(1, 11))\n",
    "    given_numbers = set(numbers)\n",
    "    missing_number = all_numbers.difference(given_numbers).pop()\n",
    "    return missing_number\n",
    "number_list = [1, 2, 3, 4, 6, 7, 8, 9, 10]\n",
    "missing_number = find_missing_number(number_list)\n",
    "print(missing_number)  \n"
   ]
  }
 ],
 "metadata": {
  "kernelspec": {
   "display_name": "Python 3 (ipykernel)",
   "language": "python",
   "name": "python3"
  },
  "language_info": {
   "codemirror_mode": {
    "name": "ipython",
    "version": 3
   },
   "file_extension": ".py",
   "mimetype": "text/x-python",
   "name": "python",
   "nbconvert_exporter": "python",
   "pygments_lexer": "ipython3",
   "version": "3.10.9"
  }
 },
 "nbformat": 4,
 "nbformat_minor": 5
}
