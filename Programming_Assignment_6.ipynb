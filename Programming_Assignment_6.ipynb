{
 "cells": [
  {
   "cell_type": "code",
   "execution_count": 30,
   "id": "6678a8ce",
   "metadata": {},
   "outputs": [
    {
     "name": "stdout",
     "output_type": "stream",
     "text": [
      "Fibonacci sequence:\n",
      "0\n",
      "1\n",
      "1\n",
      "2\n",
      "3\n",
      "5\n",
      "8\n",
      "13\n",
      "21\n",
      "34\n"
     ]
    }
   ],
   "source": [
    "#solution 1\n",
    "def fibonacci(n):\n",
    "    if n <= 1:\n",
    "        return n\n",
    "    else:\n",
    "        return fibonacci(n-1) + fibonacci(n-2)\n",
    "nterms = 10\n",
    "\n",
    "if nterms <= 0:\n",
    "    print(\"Please enter a positive integer.\")\n",
    "else:\n",
    "    print(\"Fibonacci sequence:\")\n",
    "    for i in range(nterms):\n",
    "        print(fibonacci(i))\n",
    "\n"
   ]
  },
  {
   "cell_type": "code",
   "execution_count": 31,
   "id": "a5cc1514",
   "metadata": {},
   "outputs": [
    {
     "name": "stdout",
     "output_type": "stream",
     "text": [
      "Factorial of 5 is 120\n"
     ]
    }
   ],
   "source": [
    "#solution 2\n",
    "def factorial(n):\n",
    "    if n == 0:\n",
    "        return 1\n",
    "    else:\n",
    "        return n * factorial(n-1)\n",
    "num = 5\n",
    "print(\"Factorial of\", num, \"is\", factorial(num))\n",
    "\n"
   ]
  },
  {
   "cell_type": "code",
   "execution_count": 34,
   "id": "429d2185",
   "metadata": {},
   "outputs": [
    {
     "name": "stdout",
     "output_type": "stream",
     "text": [
      "BMI: 22.20408163265306\n"
     ]
    }
   ],
   "source": [
    "\n",
    "#solution 3\n",
    "def calculate_bmi(weight, height):\n",
    "    bmi = weight / (height ** 2)\n",
    "    return bmi\n",
    "weight = 68  \n",
    "height = 1.75 \n",
    "\n",
    "bmi = calculate_bmi(weight, height)\n",
    "print(\"BMI:\", bmi)\n",
    "\n"
   ]
  },
  {
   "cell_type": "code",
   "execution_count": 35,
   "id": "5c83bba2",
   "metadata": {},
   "outputs": [
    {
     "name": "stdout",
     "output_type": "stream",
     "text": [
      "Natural logarithm of 10 is 2.302585092994046\n"
     ]
    }
   ],
   "source": [
    "#solution 4\n",
    "import math\n",
    "\n",
    "def calculate_logarithm(num):\n",
    "    logarithm = math.log(num)\n",
    "    return logarithm\n",
    "num = 10\n",
    "\n",
    "logarithm = calculate_logarithm(num)\n",
    "print(\"Natural logarithm of\", num, \"is\", logarithm)\n"
   ]
  },
  {
   "cell_type": "code",
   "execution_count": 36,
   "id": "29b6c25d",
   "metadata": {},
   "outputs": [
    {
     "name": "stdout",
     "output_type": "stream",
     "text": [
      "Cube sum of first 5 natural numbers: 225\n"
     ]
    }
   ],
   "source": [
    "#solution 5\n",
    "def calculate_cube_sum(n):\n",
    "    cube_sum = 0\n",
    "    for i in range(1, n+1):\n",
    "        cube_sum += i ** 3\n",
    "    return cube_sum\n",
    "n = 5\n",
    "cube_sum = calculate_cube_sum(n)\n",
    "print(\"Cube sum of first\", n, \"natural numbers:\", cube_sum)\n"
   ]
  }
 ],
 "metadata": {
  "kernelspec": {
   "display_name": "Python 3 (ipykernel)",
   "language": "python",
   "name": "python3"
  },
  "language_info": {
   "codemirror_mode": {
    "name": "ipython",
    "version": 3
   },
   "file_extension": ".py",
   "mimetype": "text/x-python",
   "name": "python",
   "nbconvert_exporter": "python",
   "pygments_lexer": "ipython3",
   "version": "3.10.9"
  }
 },
 "nbformat": 4,
 "nbformat_minor": 5
}
