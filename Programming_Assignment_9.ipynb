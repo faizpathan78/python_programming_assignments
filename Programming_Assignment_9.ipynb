{
 "cells": [
  {
   "cell_type": "code",
   "execution_count": 14,
   "id": "6624aa5f",
   "metadata": {},
   "outputs": [
    {
     "name": "stdout",
     "output_type": "stream",
     "text": [
      "135 is a Disarium number.\n"
     ]
    }
   ],
   "source": [
    "#solution 1\n",
    "def is_disarium_number(num):\n",
    "    num_str = str(num)\n",
    "    n = len(num_str)\n",
    "    sum_digits = sum(int(digit) ** (i+1) for i, digit in enumerate(num_str))\n",
    "    return num == sum_digits\n",
    "\n",
    "number = 135\n",
    "if is_disarium_number(number):\n",
    "    print(number, \"is a Disarium number.\")\n",
    "else:\n",
    "    print(number, \"is not a Disarium number.\")\n",
    "\n"
   ]
  },
  {
   "cell_type": "code",
   "execution_count": 15,
   "id": "26a60161",
   "metadata": {},
   "outputs": [
    {
     "name": "stdout",
     "output_type": "stream",
     "text": [
      "Disarium numbers between 1 and 100 :\n",
      "[1, 2, 3, 4, 5, 6, 7, 8, 9, 89]\n"
     ]
    }
   ],
   "source": [
    "#solution 2\n",
    "def get_all_disarium_numbers(start, end):\n",
    "    disarium_numbers = []\n",
    "    for num in range(start, end+1):\n",
    "        if is_disarium_number(num):\n",
    "            disarium_numbers.append(num)\n",
    "    return disarium_numbers\n",
    "start = 1\n",
    "end = 100\n",
    "disarium_numbers = get_all_disarium_numbers(start, end)\n",
    "print(\"Disarium numbers between\", start, \"and\", end, \":\")\n",
    "print(disarium_numbers)\n",
    "\n"
   ]
  },
  {
   "cell_type": "code",
   "execution_count": 16,
   "id": "6029c81d",
   "metadata": {},
   "outputs": [
    {
     "name": "stdout",
     "output_type": "stream",
     "text": [
      "19 is a Happy number.\n"
     ]
    }
   ],
   "source": [
    "\n",
    "#solution 3\n",
    "def is_happy_number(num):\n",
    "    seen_numbers = set()\n",
    "    while num != 1:\n",
    "        num = sum(int(digit) ** 2 for digit in str(num))\n",
    "        if num in seen_numbers:\n",
    "            return False\n",
    "        seen_numbers.add(num)\n",
    "    return True\n",
    "number = 19\n",
    "if is_happy_number(number):\n",
    "    print(number, \"is a Happy number.\")\n",
    "else:\n",
    "    print(number, \"is not a Happy number.\")\n",
    "\n"
   ]
  },
  {
   "cell_type": "code",
   "execution_count": 17,
   "id": "a73fc753",
   "metadata": {},
   "outputs": [
    {
     "name": "stdout",
     "output_type": "stream",
     "text": [
      "Happy numbers between 1 and 100 :\n",
      "[1, 7, 10, 13, 19, 23, 28, 31, 32, 44, 49, 68, 70, 79, 82, 86, 91, 94, 97, 100]\n"
     ]
    }
   ],
   "source": [
    "#solution 4\n",
    "def get_all_happy_numbers(start, end):\n",
    "    happy_numbers = []\n",
    "    for num in range(start, end+1):\n",
    "        if is_happy_number(num):\n",
    "            happy_numbers.append(num)\n",
    "    return happy_numbers\n",
    "start = 1\n",
    "end = 100\n",
    "happy_numbers = get_all_happy_numbers(start, end)\n",
    "print(\"Happy numbers between\", start, \"and\", end, \":\")\n",
    "print(happy_numbers)\n",
    "\n"
   ]
  },
  {
   "cell_type": "code",
   "execution_count": 18,
   "id": "e2fd49af",
   "metadata": {},
   "outputs": [
    {
     "name": "stdout",
     "output_type": "stream",
     "text": [
      "18 is a Harshad number.\n"
     ]
    }
   ],
   "source": [
    "#solution 5\n",
    "def is_harshad_number(num):\n",
    "    sum_digits = sum(int(digit) for digit in str(num))\n",
    "    return num % sum_digits == 0\n",
    "number = 18\n",
    "if is_harshad_number(number):\n",
    "    print(number, \"is a Harshad number.\")\n",
    "else:\n",
    "    print(number, \"is not a Harshad number.\")\n"
   ]
  },
  {
   "cell_type": "code",
   "execution_count": 19,
   "id": "943257fd",
   "metadata": {},
   "outputs": [
    {
     "name": "stdout",
     "output_type": "stream",
     "text": [
      "Pronic numbers between 1 and 100 :\n",
      "[2, 6, 12, 20, 30, 42, 56, 72, 90]\n"
     ]
    }
   ],
   "source": [
    "#solution 6\n",
    "def get_all_pronic_numbers(start, end):\n",
    "    pronic_numbers = []\n",
    "    for num in range(start, end+1):\n",
    "        if is_pronic_number(num):\n",
    "            pronic_numbers.append(num)\n",
    "    return pronic_numbers\n",
    "\n",
    "def is_pronic_number(num):\n",
    "    for i in range(1, num):\n",
    "        if i * (i+1) == num:\n",
    "            return True\n",
    "    return False\n",
    "start = 1\n",
    "end = 100\n",
    "pronic_numbers = get_all_pronic_numbers(start, end)\n",
    "print(\"Pronic numbers between\", start, \"and\", end, \":\")\n",
    "print(pronic_numbers)\n"
   ]
  }
 ],
 "metadata": {
  "kernelspec": {
   "display_name": "Python 3 (ipykernel)",
   "language": "python",
   "name": "python3"
  },
  "language_info": {
   "codemirror_mode": {
    "name": "ipython",
    "version": 3
   },
   "file_extension": ".py",
   "mimetype": "text/x-python",
   "name": "python",
   "nbconvert_exporter": "python",
   "pygments_lexer": "ipython3",
   "version": "3.10.9"
  }
 },
 "nbformat": 4,
 "nbformat_minor": 5
}
