{
 "cells": [
  {
   "cell_type": "code",
   "execution_count": 45,
   "id": "38b2e565",
   "metadata": {},
   "outputs": [
    {
     "name": "stdout",
     "output_type": "stream",
     "text": [
      "{1, 2, 3, 4, 5}\n"
     ]
    }
   ],
   "source": [
    "#solution 1\n",
    "\n",
    "\n",
    "def extract_unique_values(dictionary):\n",
    "    unique_values = set(value for sublist in dictionary.values() for value in sublist)\n",
    "    return unique_values\n",
    "\n",
    "# Example dictionary\n",
    "my_dict = {\n",
    "    'A': [1, 2, 3],\n",
    "    'B': [2, 3, 4],\n",
    "    'C': [3, 4, 5]\n",
    "}\n",
    "\n",
    "unique_values = extract_unique_values(my_dict)\n",
    "print(unique_values)\n",
    "\n"
   ]
  },
  {
   "cell_type": "code",
   "execution_count": 46,
   "id": "44a8036e",
   "metadata": {},
   "outputs": [
    {
     "name": "stdout",
     "output_type": "stream",
     "text": [
      "60\n"
     ]
    }
   ],
   "source": [
    "#solution 2\n",
    "def sum_of_dictionary(dictionary):\n",
    "    return sum(dictionary.values())\n",
    "\n",
    "# Example dictionary\n",
    "my_dict = {\n",
    "    'A': 10,\n",
    "    'B': 20,\n",
    "    'C': 30\n",
    "}\n",
    "\n",
    "total_sum = sum_of_dictionary(my_dict)\n",
    "print(total_sum)\n",
    "\n",
    "\n",
    "\n"
   ]
  },
  {
   "cell_type": "code",
   "execution_count": 47,
   "id": "3d4bca46",
   "metadata": {},
   "outputs": [
    {
     "name": "stdout",
     "output_type": "stream",
     "text": [
      "{'A': 1, 'B': 2, 'C': 3, 'D': 4}\n"
     ]
    }
   ],
   "source": [
    "#solution 3\n",
    "\n",
    "def merge_dicts(dict1, dict2):\n",
    "    merged_dict = dict1.copy()\n",
    "    merged_dict.update(dict2)\n",
    "    return merged_dict\n",
    "\n",
    "# Example dictionaries\n",
    "dict1 = {'A': 1, 'B': 2}\n",
    "dict2 = {'C': 3, 'D': 4}\n",
    "\n",
    "merged = merge_dicts(dict1, dict2)\n",
    "print(merged)\n",
    "\n"
   ]
  },
  {
   "cell_type": "code",
   "execution_count": 48,
   "id": "47cc85e2",
   "metadata": {},
   "outputs": [
    {
     "name": "stdout",
     "output_type": "stream",
     "text": [
      "{'name': 'John', 'age': 30, 'country': 'USA'}\n"
     ]
    }
   ],
   "source": [
    "#solution 4\n",
    "\n",
    "def convert_to_flat_dict(key_value_list):\n",
    "    flat_dict = {key: value for key, value in key_value_list}\n",
    "    return flat_dict\n",
    "\n",
    "\n",
    "key_value_list = [(\"name\", \"John\"), (\"age\", 30), (\"country\", \"USA\")]\n",
    "\n",
    "flat_dict = convert_to_flat_dict(key_value_list)\n",
    "print(flat_dict)\n"
   ]
  },
  {
   "cell_type": "code",
   "execution_count": 49,
   "id": "39bf09c3",
   "metadata": {},
   "outputs": [
    {
     "name": "stdout",
     "output_type": "stream",
     "text": [
      "OrderedDict([('x', 10), ('a', 1), ('b', 2)])\n"
     ]
    }
   ],
   "source": [
    "#solution 5\n",
    "\n",
    "from collections import OrderedDict\n",
    "\n",
    "def insert_at_beginning(ordered_dict, key, value):\n",
    "    new_ordered_dict = OrderedDict([(key, value)])\n",
    "    new_ordered_dict.update(ordered_dict)\n",
    "    return new_ordered_dict\n",
    "ordered_dict = OrderedDict([('a', 1), ('b', 2)])\n",
    "\n",
    "new_dict = insert_at_beginning(ordered_dict, 'x', 10)\n",
    "print(new_dict)\n",
    "\n"
   ]
  },
  {
   "cell_type": "code",
   "execution_count": 50,
   "id": "5f7a421a",
   "metadata": {},
   "outputs": [
    {
     "name": "stdout",
     "output_type": "stream",
     "text": [
      "False\n"
     ]
    }
   ],
   "source": [
    "#solution 6\n",
    "from collections import OrderedDict\n",
    "\n",
    "def check_order_of_characters(string):\n",
    "    ordered_dict = OrderedDict.fromkeys(string)\n",
    "    for char in string:\n",
    "        if char != next(iter(ordered_dict)):\n",
    "            return False\n",
    "        ordered_dict.popitem(last=False)\n",
    "    return True\n",
    "\n",
    "string = \"hello\"\n",
    "is_ordered = check_order_of_characters(string)\n",
    "print(is_ordered)\n",
    "\n"
   ]
  },
  {
   "cell_type": "code",
   "execution_count": 51,
   "id": "744283a4",
   "metadata": {},
   "outputs": [
    {
     "name": "stdout",
     "output_type": "stream",
     "text": [
      "{'a': 1, 'b': 2, 'c': 3}\n",
      "{'a': 1, 'b': 2, 'c': 3}\n"
     ]
    }
   ],
   "source": [
    "#solution 7\n",
    "def sort_dictionary_by_key(dictionary):\n",
    "    sorted_dict = dict(sorted(dictionary.items()))\n",
    "    return sorted_dict\n",
    "\n",
    "def sort_dictionary_by_value(dictionary):\n",
    "    sorted_dict = dict(sorted(dictionary.items(), key=lambda item: item[1]))\n",
    "    return sorted_dict\n",
    "\n",
    "# Sorting by Key\n",
    "my_dict = {'c': 3, 'a': 1, 'b': 2}\n",
    "sorted_dict_by_key = sort_dictionary_by_key(my_dict)\n",
    "print(sorted_dict_by_key)\n",
    "\n",
    "# Sorting by Value\n",
    "my_dict = {'c': 3, 'a': 1, 'b': 2}\n",
    "sorted_dict_by_value = sort_dictionary_by_value(my_dict)\n",
    "print(sorted_dict_by_value)\n"
   ]
  }
 ],
 "metadata": {
  "kernelspec": {
   "display_name": "Python 3 (ipykernel)",
   "language": "python",
   "name": "python3"
  },
  "language_info": {
   "codemirror_mode": {
    "name": "ipython",
    "version": 3
   },
   "file_extension": ".py",
   "mimetype": "text/x-python",
   "name": "python",
   "nbconvert_exporter": "python",
   "pygments_lexer": "ipython3",
   "version": "3.10.9"
  }
 },
 "nbformat": 4,
 "nbformat_minor": 5
}
