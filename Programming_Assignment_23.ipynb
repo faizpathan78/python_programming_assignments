{
 "cells": [
  {
   "cell_type": "code",
   "execution_count": 17,
   "id": "66feee49",
   "metadata": {},
   "outputs": [
    {
     "name": "stdout",
     "output_type": "stream",
     "text": [
      "True\n",
      "False\n"
     ]
    }
   ],
   "source": [
    "#solution 1\n",
    "def is_symmetrical(number):\n",
    "    number_str = str(number)\n",
    "    reversed_str = number_str[::-1]\n",
    "    \n",
    "    if number_str == reversed_str:\n",
    "        return True\n",
    "    else:\n",
    "        return False\n",
    "\n",
    "\n",
    "num1 = 12321\n",
    "result1 = is_symmetrical(num1)\n",
    "print(result1)\n",
    "\n",
    "num2 = 12345\n",
    "result2 = is_symmetrical(num2)\n",
    "print(result2)\n"
   ]
  },
  {
   "cell_type": "code",
   "execution_count": 18,
   "id": "2d0f194b",
   "metadata": {},
   "outputs": [
    {
     "name": "stdout",
     "output_type": "stream",
     "text": [
      "384\n"
     ]
    }
   ],
   "source": [
    "#solution 2\n",
    "def multiply_numbers(numbers_string):\n",
    "    numbers = [int(num) for num in numbers_string.split(', ')]\n",
    "    product = 1\n",
    "\n",
    "    for num in numbers:\n",
    "        product *= num\n",
    "\n",
    "    return product\n",
    "\n",
    "\n",
    "numbers_str = '2, 4, 6, 8'\n",
    "result = multiply_numbers(numbers_str)\n",
    "print(result)\n"
   ]
  },
  {
   "cell_type": "code",
   "execution_count": 19,
   "id": "a580fa57",
   "metadata": {},
   "outputs": [
    {
     "name": "stdout",
     "output_type": "stream",
     "text": [
      "1491625\n"
     ]
    }
   ],
   "source": [
    "#solution 3\n",
    "def square_digits(number):\n",
    "    \n",
    "    number_str = str(number)\n",
    "    squared_digits = [str(int(digit)**2) for digit in number_str]\n",
    "    squared_number = int(''.join(squared_digits))\n",
    "    \n",
    "    return squared_number\n",
    "\n",
    "\n",
    "num = 12345\n",
    "result = square_digits(num)\n",
    "print(result)\n"
   ]
  },
  {
   "cell_type": "code",
   "execution_count": 20,
   "id": "0bbf2ccf",
   "metadata": {},
   "outputs": [
    {
     "name": "stdout",
     "output_type": "stream",
     "text": [
      "[1, 2, 5, 7, 9]\n"
     ]
    }
   ],
   "source": [
    "#solution 4 \n",
    "def sort_and_remove_duplicates(input_list):\n",
    "    sorted_list = sorted(input_list)\n",
    "    unique_list = list(set(sorted_list))\n",
    "    return unique_list\n",
    "\n",
    "\n",
    "my_list = [5, 2, 7, 2, 1, 5, 9, 2]\n",
    "result = sort_and_remove_duplicates(my_list)\n",
    "print(result)\n"
   ]
  },
  {
   "cell_type": "code",
   "execution_count": 22,
   "id": "bb068b58",
   "metadata": {},
   "outputs": [
    {
     "name": "stdout",
     "output_type": "stream",
     "text": [
      "2\n"
     ]
    }
   ],
   "source": [
    "#solution 5\n",
    "def mean_of_digits(number):\n",
    "   \n",
    "    number_str = str(number)\n",
    "    \n",
    "    \n",
    "    sum_of_digits = sum(int(digit) for digit in number_str)\n",
    "    \n",
    "    \n",
    "    mean = sum_of_digits // len(number_str)\n",
    "    \n",
    "    return mean\n",
    "\n",
    "\n",
    "num = 512\n",
    "result = mean_of_digits(num)\n",
    "print(result)\n"
   ]
  }
 ],
 "metadata": {
  "kernelspec": {
   "display_name": "Python 3 (ipykernel)",
   "language": "python",
   "name": "python3"
  },
  "language_info": {
   "codemirror_mode": {
    "name": "ipython",
    "version": 3
   },
   "file_extension": ".py",
   "mimetype": "text/x-python",
   "name": "python",
   "nbconvert_exporter": "python",
   "pygments_lexer": "ipython3",
   "version": "3.10.9"
  }
 },
 "nbformat": 4,
 "nbformat_minor": 5
}
