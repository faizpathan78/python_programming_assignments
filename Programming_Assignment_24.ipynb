{
 "cells": [
  {
   "cell_type": "code",
   "execution_count": 11,
   "id": "531232c4",
   "metadata": {},
   "outputs": [
    {
     "name": "stdout",
     "output_type": "stream",
     "text": [
      "[1, 2, 3, 40, 5, 6, 7, 80, 9, 10, 11, 120]\n"
     ]
    }
   ],
   "source": [
    "#solnution 1 \n",
    "def amplify_list(number):\n",
    "    result = []\n",
    "    for num in range(1, number + 1):\n",
    "        if num % 4 == 0:\n",
    "            result.append(num * 10)\n",
    "        else:\n",
    "            result.append(num)\n",
    "    return result\n",
    "\n",
    "input_number = 12\n",
    "result = amplify_list(input_number)\n",
    "print(result)\n",
    "\n"
   ]
  },
  {
   "cell_type": "code",
   "execution_count": 12,
   "id": "033e3d7a",
   "metadata": {},
   "outputs": [
    {
     "name": "stdout",
     "output_type": "stream",
     "text": [
      "3\n"
     ]
    }
   ],
   "source": [
    "#solution 2\n",
    "def find_unique_number(numbers):\n",
    "    count_dict = {}\n",
    "    for num in numbers:\n",
    "        if num in count_dict:\n",
    "            count_dict[num] += 1\n",
    "        else:\n",
    "            count_dict[num] = 1\n",
    "\n",
    "    for num, count in count_dict.items():\n",
    "        if count == 1:\n",
    "            return num\n",
    "\n",
    "    return None\n",
    "\n",
    "\n",
    "input_list = [1, 2, 2, 3, 1, 4, 4, 5, 5]\n",
    "result = find_unique_number(input_list)\n",
    "print(result)\n"
   ]
  },
  {
   "cell_type": "code",
   "execution_count": 14,
   "id": "36748ddf",
   "metadata": {},
   "outputs": [
    {
     "name": "stdout",
     "output_type": "stream",
     "text": [
      "Area: 78.54\n",
      "Perimeter: 31.42\n"
     ]
    }
   ],
   "source": [
    "#solution 3 \n",
    "import math\n",
    "\n",
    "class Circle:\n",
    "    def __init__(self, radius):\n",
    "        self.radius = radius\n",
    "\n",
    "    def getArea(self):\n",
    "        return math.pi * self.radius**2\n",
    "\n",
    "    def getPerimeter(self):\n",
    "        return 2 * math.pi * self.radius\n",
    "\n",
    "\n",
    "my_circle = Circle(5)\n",
    "area = my_circle.getArea()\n",
    "perimeter = my_circle.getPerimeter()\n",
    "\n",
    "print(f\"Area: {area:.2f}\")\n",
    "print(f\"Perimeter: {perimeter:.2f}\")\n",
    "\n"
   ]
  },
  {
   "cell_type": "code",
   "execution_count": 15,
   "id": "deb55832",
   "metadata": {},
   "outputs": [
    {
     "name": "stdout",
     "output_type": "stream",
     "text": [
      "['date', 'apple', 'banana', 'cherry', 'elderberry']\n"
     ]
    }
   ],
   "source": [
    "#solution 4 \n",
    "\n",
    "def sort_strings_by_length(string_list):\n",
    "    return sorted(string_list, key=len)\n",
    "\n",
    "\n",
    "input_list = ['apple', 'banana', 'cherry', 'date', 'elderberry']\n",
    "result = sort_strings_by_length(input_list)\n",
    "print(result)\n"
   ]
  },
  {
   "cell_type": "code",
   "execution_count": 16,
   "id": "294bd18f",
   "metadata": {},
   "outputs": [
    {
     "name": "stdout",
     "output_type": "stream",
     "text": [
      "True\n"
     ]
    }
   ],
   "source": [
    "#solution 5 \n",
    "def is_pythagorean_triplet(a, b, c):\n",
    "    \n",
    "    numbers = sorted([a, b, c])\n",
    "    \n",
    "    squared = [num**2 for num in numbers]\n",
    "\n",
    "   \n",
    "    if squared[0] + squared[1] == squared[2]:\n",
    "        return True\n",
    "    else:\n",
    "        return False\n",
    "\n",
    "\n",
    "num1, num2, num3 = 3, 4, 5\n",
    "result = is_pythagorean_triplet(num1, num2, num3)\n",
    "print(result)\n"
   ]
  }
 ],
 "metadata": {
  "kernelspec": {
   "display_name": "Python 3 (ipykernel)",
   "language": "python",
   "name": "python3"
  },
  "language_info": {
   "codemirror_mode": {
    "name": "ipython",
    "version": 3
   },
   "file_extension": ".py",
   "mimetype": "text/x-python",
   "name": "python",
   "nbconvert_exporter": "python",
   "pygments_lexer": "ipython3",
   "version": "3.10.9"
  }
 },
 "nbformat": 4,
 "nbformat_minor": 5
}
