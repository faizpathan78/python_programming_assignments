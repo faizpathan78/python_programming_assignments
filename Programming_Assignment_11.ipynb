{
 "cells": [
  {
   "cell_type": "code",
   "execution_count": 52,
   "id": "08044228",
   "metadata": {},
   "outputs": [
    {
     "name": "stdout",
     "output_type": "stream",
     "text": [
      "['sample', 'program']\n"
     ]
    }
   ],
   "source": [
    "#solution 1\n",
    "def find_words_greater_than_length(text, k):\n",
    "    words = text.split()\n",
    "    result = [word for word in words if len(word) > k]\n",
    "    return result\n",
    "\n",
    "text = \"This is a sample text to test the program\"\n",
    "k = 4\n",
    "words_greater_than_k = find_words_greater_than_length(text, k)\n",
    "print(words_greater_than_k)\n"
   ]
  },
  {
   "cell_type": "code",
   "execution_count": 53,
   "id": "a74f7df3",
   "metadata": {},
   "outputs": [
    {
     "name": "stdout",
     "output_type": "stream",
     "text": [
      "Helo\n"
     ]
    }
   ],
   "source": [
    "#solution 2\n",
    "def remove_ith_character(string, i):\n",
    "    result = string[:i] + string[i+1:]\n",
    "    return result\n",
    "\n",
    "string = \"Hello\"\n",
    "i = 2\n",
    "new_string = remove_ith_character(string, i)\n",
    "print(new_string)\n"
   ]
  },
  {
   "cell_type": "code",
   "execution_count": 54,
   "id": "5270ee43",
   "metadata": {},
   "outputs": [
    {
     "name": "stdout",
     "output_type": "stream",
     "text": [
      "This-is-a-sample-string\n"
     ]
    }
   ],
   "source": [
    "#solution 3\n",
    "def split_and_join(string):\n",
    "    words = string.split()\n",
    "    joined_string = \"-\".join(words)\n",
    "    return joined_string\n",
    "\n",
    "string = \"This is a sample string\"\n",
    "new_string = split_and_join(string)\n",
    "print(new_string)\n"
   ]
  },
  {
   "cell_type": "code",
   "execution_count": 55,
   "id": "802e932c",
   "metadata": {},
   "outputs": [
    {
     "name": "stdout",
     "output_type": "stream",
     "text": [
      "True\n"
     ]
    }
   ],
   "source": [
    "#solution 4\n",
    "def is_binary_string(string):\n",
    "    for char in string:\n",
    "        if char not in '01':\n",
    "            return False\n",
    "    return True\n",
    "\n",
    "string = \"101010\"\n",
    "is_binary = is_binary_string(string)\n",
    "print(is_binary)\n"
   ]
  },
  {
   "cell_type": "code",
   "execution_count": 56,
   "id": "06686b62",
   "metadata": {},
   "outputs": [
    {
     "name": "stdout",
     "output_type": "stream",
     "text": [
      "True\n"
     ]
    }
   ],
   "source": [
    "#solution 5\n",
    "def is_binary_string(string):\n",
    "    for char in string:\n",
    "        if char not in '01':\n",
    "            return False\n",
    "    return True\n",
    "\n",
    "string = \"101010\"\n",
    "is_binary = is_binary_string(string)\n",
    "print(is_binary)\n"
   ]
  },
  {
   "cell_type": "code",
   "execution_count": 57,
   "id": "cf960754",
   "metadata": {},
   "outputs": [
    {
     "name": "stdout",
     "output_type": "stream",
     "text": [
      "{'another', 'a'}\n"
     ]
    }
   ],
   "source": [
    "#solution 6\n",
    "def find_uncommon_words(str1, str2):\n",
    "    set1 = set(str1.split())\n",
    "    set2 = set(str2.split())\n",
    "    uncommon_words = set1.symmetric_difference(set2)\n",
    "    return uncommon_words\n",
    "\n",
    "str1 = \"This is a sample text\"\n",
    "str2 = \"This is another sample text\"\n",
    "uncommon_words = find_uncommon_words(str1, str2)\n",
    "print(uncommon_words)\n"
   ]
  },
  {
   "cell_type": "code",
   "execution_count": 58,
   "id": "c100fe1e",
   "metadata": {},
   "outputs": [
    {
     "name": "stdout",
     "output_type": "stream",
     "text": [
      "['l']\n"
     ]
    }
   ],
   "source": [
    "#solution 7\n",
    "def find_duplicate_characters(string):\n",
    "    duplicate_chars = []\n",
    "    for char in string:\n",
    "        if string.count(char) > 1 and char not in duplicate_chars:\n",
    "            duplicate_chars.append(char)\n",
    "    return duplicate_chars\n",
    "\n",
    "string = \"Hello\"\n",
    "duplicate_chars = find_duplicate_characters(string)\n",
    "print(duplicate_chars)\n"
   ]
  },
  {
   "cell_type": "code",
   "execution_count": 59,
   "id": "9d483c16",
   "metadata": {},
   "outputs": [
    {
     "name": "stdout",
     "output_type": "stream",
     "text": [
      "True\n"
     ]
    }
   ],
   "source": [
    "#solution 9\n",
    "import re\n",
    "\n",
    "def has_special_characters(string):\n",
    "    special_char_pattern = r'[^a-zA-Z0-9\\s]'\n",
    "    result = re.search(special_char_pattern, string)\n",
    "    return result is not None\n",
    "\n",
    "string = \"Hello!\"\n",
    "has_special_chars = has_special_characters(string)\n",
    "print(has_special_chars)\n"
   ]
  }
 ],
 "metadata": {
  "kernelspec": {
   "display_name": "Python 3 (ipykernel)",
   "language": "python",
   "name": "python3"
  },
  "language_info": {
   "codemirror_mode": {
    "name": "ipython",
    "version": 3
   },
   "file_extension": ".py",
   "mimetype": "text/x-python",
   "name": "python",
   "nbconvert_exporter": "python",
   "pygments_lexer": "ipython3",
   "version": "3.10.9"
  }
 },
 "nbformat": 4,
 "nbformat_minor": 5
}
