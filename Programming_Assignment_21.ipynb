{
 "cells": [
  {
   "cell_type": "code",
   "execution_count": 32,
   "id": "d2c99b84",
   "metadata": {},
   "outputs": [
    {
     "name": "stdout",
     "output_type": "stream",
     "text": [
      "[2, 3, 4, 5, 6]\n"
     ]
    }
   ],
   "source": [
    "#solution 1\n",
    "\n",
    "def update_list(lst, number):\n",
    "    lst.append(number)  \n",
    "    lst.pop(0)  \n",
    "    return lst\n",
    "\n",
    "\n",
    "my_list = [1, 2, 3, 4, 5]\n",
    "new_number = 6\n",
    "updated_list = update_list(my_list, new_number)\n",
    "print(updated_list) \n"
   ]
  },
  {
   "cell_type": "code",
   "execution_count": 33,
   "id": "963e7940",
   "metadata": {},
   "outputs": [
    {
     "name": "stdout",
     "output_type": "stream",
     "text": [
      "4500\n"
     ]
    }
   ],
   "source": [
    "#solution 2\n",
    "\n",
    "def calculate_total_budget(budgets):\n",
    "    total_budget = 0\n",
    "    \n",
    "    for budget in budgets:\n",
    "        total_budget += budget['budget']\n",
    "    \n",
    "    return total_budget\n",
    "\n",
    "\n",
    "people_budgets = [\n",
    "    {'name': 'John', 'budget': 1000},\n",
    "    {'name': 'Alice', 'budget': 2000},\n",
    "    {'name': 'Bob', 'budget': 1500}\n",
    "]\n",
    "\n",
    "total_budget = calculate_total_budget(people_budgets)\n",
    "print(total_budget) \n",
    "\n"
   ]
  },
  {
   "cell_type": "code",
   "execution_count": 34,
   "id": "e91fc915",
   "metadata": {},
   "outputs": [
    {
     "name": "stdout",
     "output_type": "stream",
     "text": [
      "acho\n"
     ]
    }
   ],
   "source": [
    "#solution 3\n",
    "def sort_letters(string):\n",
    "    sorted_string = ''.join(sorted(string))\n",
    "    return sorted_string\n",
    "\n",
    "# Example usage\n",
    "word = \"chao\"\n",
    "sorted_word = sort_letters(word)\n",
    "print(sorted_word)  "
   ]
  },
  {
   "cell_type": "code",
   "execution_count": 36,
   "id": "7eff1ea6",
   "metadata": {},
   "outputs": [
    {
     "name": "stdout",
     "output_type": "stream",
     "text": [
      "18193.97\n"
     ]
    }
   ],
   "source": [
    "#solution 4 \n",
    "def calculate_investment_value(p, t, r, n):\n",
    "    A = p * (1 + r/n)**(n*t)\n",
    "    return round(A, 2)\n",
    "principal = 10000\n",
    "years = 10\n",
    "interest_rate = 0.06\n",
    "compounding_periods = 12\n",
    "\n",
    "investment_value = calculate_investment_value(principal, years, interest_rate, compounding_periods)\n",
    "print(investment_value)  \n",
    "\n"
   ]
  },
  {
   "cell_type": "code",
   "execution_count": 37,
   "id": "9bb8643a",
   "metadata": {},
   "outputs": [
    {
     "name": "stdout",
     "output_type": "stream",
     "text": [
      "[1, 2, 6]\n"
     ]
    }
   ],
   "source": [
    "#solution 5\n",
    "\n",
    "def filter_integers(elements):\n",
    "    integers = [element for element in elements if isinstance(element, int)]\n",
    "    return integers\n",
    "\n",
    "mixed_list = [1, 2, '3', 4.5, '5', 6, 'seven']\n",
    "integers_only = filter_integers(mixed_list)\n",
    "print(integers_only) \n"
   ]
  }
 ],
 "metadata": {
  "kernelspec": {
   "display_name": "Python 3 (ipykernel)",
   "language": "python",
   "name": "python3"
  },
  "language_info": {
   "codemirror_mode": {
    "name": "ipython",
    "version": 3
   },
   "file_extension": ".py",
   "mimetype": "text/x-python",
   "name": "python",
   "nbconvert_exporter": "python",
   "pygments_lexer": "ipython3",
   "version": "3.10.9"
  }
 },
 "nbformat": 4,
 "nbformat_minor": 5
}
