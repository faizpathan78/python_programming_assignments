{
 "cells": [
  {
   "cell_type": "code",
   "execution_count": 3,
   "id": "7d245e50",
   "metadata": {},
   "outputs": [
    {
     "name": "stdout",
     "output_type": "stream",
     "text": [
      "2\n"
     ]
    }
   ],
   "source": [
    "#solnution 1 \n",
    "def no_of_equal_integers(a,b,c) :\n",
    "    if a == b and b == c  :\n",
    "        return 3\n",
    "    if a == b or b == c or a == c :\n",
    "        return 2 \n",
    "    else:\n",
    "        return 1\n",
    "print(no_of_equal_integers(1,1,3))\n"
   ]
  },
  {
   "cell_type": "code",
   "execution_count": 7,
   "id": "7f7f7911",
   "metadata": {},
   "outputs": [
    {
     "name": "stdout",
     "output_type": "stream",
     "text": [
      "[('a', 1), ('b', 2), ('c', 3)]\n"
     ]
    }
   ],
   "source": [
    "#solution 2\n",
    "def sort_dict_by_keys(dictionary):\n",
    "    sorted_items = sorted(dictionary.items(), key=lambda x: x[0])\n",
    "    return sorted_items\n",
    "\n",
    "\n",
    "my_dict = {'b': 2, 'a': 1, 'c': 3}\n",
    "sorted_tuples = sort_dict_by_keys(my_dict)\n",
    "print(sorted_tuples)\n"
   ]
  },
  {
   "cell_type": "code",
   "execution_count": 8,
   "id": "e8a39502",
   "metadata": {},
   "outputs": [
    {
     "name": "stdout",
     "output_type": "stream",
     "text": [
      "{'a': 'A', 'b': 'B', 'c': 'C', 'd': 'D', 'e': 'E', 'f': 'F', 'g': 'G', 'h': 'H', 'i': 'I', 'j': 'J', 'k': 'K', 'l': 'L', 'm': 'M', 'n': 'N', 'o': 'O', 'p': 'P', 'q': 'Q', 'r': 'R', 's': 'S', 't': 'T', 'u': 'U', 'v': 'V', 'w': 'W', 'x': 'X', 'y': 'Y', 'z': 'Z'}\n"
     ]
    }
   ],
   "source": [
    "#solution 3 \n",
    "def create_letter_dictionary():\n",
    "    letter_dict = {}\n",
    "    for letter in 'abcdefghijklmnopqrstuvwxyz':\n",
    "        letter_dict[letter] = letter.upper()\n",
    "    return letter_dict\n",
    "\n",
    "\n",
    "result = create_letter_dictionary()\n",
    "print(result)\n"
   ]
  },
  {
   "cell_type": "code",
   "execution_count": 9,
   "id": "e033c2fe",
   "metadata": {},
   "outputs": [
    {
     "name": "stdout",
     "output_type": "stream",
     "text": [
      "Hilli, Wirld!\n"
     ]
    }
   ],
   "source": [
    "#solution 4 \n",
    "def replace_vowels_with(string, replacement_vowel):\n",
    "    vowels = 'aeiouAEIOU'\n",
    "    replaced_string = ''\n",
    "    for char in string:\n",
    "        if char in vowels:\n",
    "            replaced_string += replacement_vowel\n",
    "        else:\n",
    "            replaced_string += char\n",
    "    return replaced_string\n",
    "\n",
    "\n",
    "input_string = 'Hello, World!'\n",
    "replacement = 'i'\n",
    "result = replace_vowels_with(input_string, replacement)\n",
    "print(result)\n"
   ]
  },
  {
   "cell_type": "code",
   "execution_count": 10,
   "id": "848711fa",
   "metadata": {},
   "outputs": [
    {
     "name": "stdout",
     "output_type": "stream",
     "text": [
      "To Be oR NoT To Be!\n"
     ]
    }
   ],
   "source": [
    "#solution 5 \n",
    "def ascii_capitalize(string):\n",
    "    result = ''\n",
    "    for char in string:\n",
    "        ascii_code = ord(char)\n",
    "        if ascii_code % 2 == 0:\n",
    "            result += char.upper()\n",
    "        else:\n",
    "            result += char.lower()\n",
    "    return result\n",
    "\n",
    "\n",
    "input_string = 'to be or not to be!'\n",
    "result = ascii_capitalize(input_string)\n",
    "print(result)\n"
   ]
  }
 ],
 "metadata": {
  "kernelspec": {
   "display_name": "Python 3 (ipykernel)",
   "language": "python",
   "name": "python3"
  },
  "language_info": {
   "codemirror_mode": {
    "name": "ipython",
    "version": 3
   },
   "file_extension": ".py",
   "mimetype": "text/x-python",
   "name": "python",
   "nbconvert_exporter": "python",
   "pygments_lexer": "ipython3",
   "version": "3.10.9"
  }
 },
 "nbformat": 4,
 "nbformat_minor": 5
}
