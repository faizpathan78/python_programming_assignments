{
 "cells": [
  {
   "cell_type": "code",
   "execution_count": 21,
   "id": "a75bda07",
   "metadata": {},
   "outputs": [
    {
     "name": "stdout",
     "output_type": "stream",
     "text": [
      "st... st... struggling?\n"
     ]
    }
   ],
   "source": [
    "#solution 1\n",
    "def stutter_word(word):\n",
    "    first_two_letters = word[:2]\n",
    "    stuttered_word = f\"{first_two_letters}... {first_two_letters}... {word}?\"\n",
    "    return stuttered_word\n",
    "\n",
    "word = \"struggling\"\n",
    "stuttered = stutter_word(word)\n",
    "print(stuttered)  \n"
   ]
  },
  {
   "cell_type": "code",
   "execution_count": 22,
   "id": "71f8ab43",
   "metadata": {},
   "outputs": [
    {
     "name": "stdout",
     "output_type": "stream",
     "text": [
      "45.0\n"
     ]
    }
   ],
   "source": [
    "#solution 2\n",
    "import math\n",
    "\n",
    "def radians_to_degrees(angle_radians):\n",
    "    angle_degrees = math.degrees(angle_radians)\n",
    "    angle_degrees_rounded = round(angle_degrees, 1)\n",
    "    return angle_degrees_rounded\n",
    "angle_radians = math.pi / 4  \n",
    "angle_degrees = radians_to_degrees(angle_radians)\n",
    "print(angle_degrees)\n"
   ]
  },
  {
   "cell_type": "code",
   "execution_count": 23,
   "id": "c638a9ba",
   "metadata": {},
   "outputs": [
    {
     "name": "stdout",
     "output_type": "stream",
     "text": [
      "True\n"
     ]
    }
   ],
   "source": [
    "#solution 3\n",
    " \n",
    "def is_curzon_number(num):\n",
    "    numerator = 2**num + 1\n",
    "    denominator = 2 * num + 1\n",
    "    if numerator % denominator == 0:\n",
    "        return True\n",
    "    else:\n",
    "        return False\n",
    "num = 5\n",
    "print(is_curzon_number(num)) "
   ]
  },
  {
   "cell_type": "code",
   "execution_count": 24,
   "id": "a85d4872",
   "metadata": {},
   "outputs": [
    {
     "name": "stdout",
     "output_type": "stream",
     "text": [
      "64.9519052838329\n"
     ]
    }
   ],
   "source": [
    "#solution 4\n",
    " \n",
    "import math\n",
    "\n",
    "def calculate_hexagon_area(x):\n",
    "    area = (3 * math.sqrt(3) * x**2) / 2\n",
    "    return area\n",
    "\n",
    "side_length = 5\n",
    "area = calculate_hexagon_area(side_length)\n",
    "print(area) \n"
   ]
  },
  {
   "cell_type": "code",
   "execution_count": 25,
   "id": "39d6818f",
   "metadata": {},
   "outputs": [
    {
     "name": "stdout",
     "output_type": "stream",
     "text": [
      "10101101\n"
     ]
    }
   ],
   "source": [
    "#solution 5\n",
    "def decimal_to_binary(decimal_number):\n",
    "    binary = ''\n",
    "    while decimal_number > 0:\n",
    "        binary = str(decimal_number % 2) + binary\n",
    "        decimal_number //= 2\n",
    "    return binary\n",
    "\n",
    "decimal_number = 173\n",
    "binary_representation = decimal_to_binary(decimal_number)\n",
    "print(binary_representation) \n"
   ]
  }
 ],
 "metadata": {
  "kernelspec": {
   "display_name": "Python 3 (ipykernel)",
   "language": "python",
   "name": "python3"
  },
  "language_info": {
   "codemirror_mode": {
    "name": "ipython",
    "version": 3
   },
   "file_extension": ".py",
   "mimetype": "text/x-python",
   "name": "python",
   "nbconvert_exporter": "python",
   "pygments_lexer": "ipython3",
   "version": "3.10.9"
  }
 },
 "nbformat": 4,
 "nbformat_minor": 5
}
