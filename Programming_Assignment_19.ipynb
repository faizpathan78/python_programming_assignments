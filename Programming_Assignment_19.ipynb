{
 "cells": [
  {
   "cell_type": "code",
   "execution_count": 6,
   "id": "df3696b7",
   "metadata": {},
   "outputs": [
    {
     "name": "stdout",
     "output_type": "stream",
     "text": [
      "HHeelllloo\n"
     ]
    }
   ],
   "source": [
    "#solution 1\n",
    "def repeat_characters(string):\n",
    "    repeated_string = ''.join(char * 2 for char in string)\n",
    "    return repeated_string\n",
    "input_string = \"Hello\"\n",
    "repeated_string = repeat_characters(input_string)\n",
    "print(repeated_string)  \n",
    "\n"
   ]
  },
  {
   "cell_type": "code",
   "execution_count": 7,
   "id": "98537922",
   "metadata": {},
   "outputs": [
    {
     "name": "stdout",
     "output_type": "stream",
     "text": [
      "False\n",
      "True\n",
      "boolean expected\n",
      "boolean expected\n"
     ]
    }
   ],
   "source": [
    "#solution 2\n",
    "def reverse_boolean(value):\n",
    "    if isinstance(value, bool):\n",
    "        return not value\n",
    "    else:\n",
    "        return \"boolean expected\"\n",
    "\n",
    "\n",
    "print(reverse_boolean(True))  \n",
    "print(reverse_boolean(False)) \n",
    "print(reverse_boolean(\"Hello\")) \n",
    "print(reverse_boolean(123))  "
   ]
  },
  {
   "cell_type": "code",
   "execution_count": 8,
   "id": "b458debd",
   "metadata": {},
   "outputs": [
    {
     "name": "stdout",
     "output_type": "stream",
     "text": [
      "0.004\n"
     ]
    }
   ],
   "source": [
    "#solution 3\n",
    "def calculate_paper_thickness(fold_count):\n",
    "    initial_thickness_mm = 0.5\n",
    "    thickness_m = initial_thickness_mm / 1000  # Convert mm to meters\n",
    "    folded_thickness_m = thickness_m * (2 ** fold_count)\n",
    "    return folded_thickness_m\n",
    "fold_count = 3\n",
    "paper_thickness = calculate_paper_thickness(fold_count)\n",
    "print(paper_thickness) \n"
   ]
  },
  {
   "cell_type": "code",
   "execution_count": 9,
   "id": "426ab355",
   "metadata": {},
   "outputs": [
    {
     "name": "stdout",
     "output_type": "stream",
     "text": [
      "[0, 6]\n"
     ]
    }
   ],
   "source": [
    "#solution 4\n",
    " \n",
    "def find_capital_indices(string):\n",
    "    capital_indices = [index for index, char in enumerate(string) if char.isupper()]\n",
    "    return capital_indices\n",
    "\n",
    "input_string = \"Hello World!\"\n",
    "indices = find_capital_indices(input_string)\n",
    "print(indices)  \n"
   ]
  },
  {
   "cell_type": "code",
   "execution_count": 10,
   "id": "2e918017",
   "metadata": {},
   "outputs": [
    {
     "name": "stdout",
     "output_type": "stream",
     "text": [
      "[2, 4, 6, 8, 10]\n"
     ]
    }
   ],
   "source": [
    "#solution 5\n",
    "  \n",
    "def find_even_numbers(n):\n",
    "    even_numbers = [num for num in range(1, n + 1) if num % 2 == 0]\n",
    "    return even_numbers\n",
    "\n",
    "given_number = 10\n",
    "even_numbers_list = find_even_numbers(given_number)\n",
    "print(even_numbers_list)\n"
   ]
  }
 ],
 "metadata": {
  "kernelspec": {
   "display_name": "Python 3 (ipykernel)",
   "language": "python",
   "name": "python3"
  },
  "language_info": {
   "codemirror_mode": {
    "name": "ipython",
    "version": 3
   },
   "file_extension": ".py",
   "mimetype": "text/x-python",
   "name": "python",
   "nbconvert_exporter": "python",
   "pygments_lexer": "ipython3",
   "version": "3.10.9"
  }
 },
 "nbformat": 4,
 "nbformat_minor": 5
}
