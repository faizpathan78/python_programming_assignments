{
 "cells": [
  {
   "cell_type": "code",
   "execution_count": 1,
   "id": "81dac5a8",
   "metadata": {},
   "outputs": [
    {
     "name": "stdout",
     "output_type": "stream",
     "text": [
      "Sum of elements: 15\n"
     ]
    }
   ],
   "source": [
    "#solution 1\n",
    "def sum_of_elements(lst):\n",
    "    return sum(lst)\n",
    "\n",
    "my_list = [1, 2, 3, 4, 5]\n",
    "sum_result = sum_of_elements(my_list)\n",
    "print(\"Sum of elements:\", sum_result)\n",
    "\n"
   ]
  },
  {
   "cell_type": "code",
   "execution_count": 2,
   "id": "736e0a5d",
   "metadata": {},
   "outputs": [
    {
     "name": "stdout",
     "output_type": "stream",
     "text": [
      "Product of numbers: 120\n"
     ]
    }
   ],
   "source": [
    "#solution 2\n",
    "def multiply_numbers(lst):\n",
    "    result = 1\n",
    "    for num in lst:\n",
    "        result *= num\n",
    "    return result\n",
    "my_list = [1, 2, 3, 4, 5]\n",
    "product = multiply_numbers(my_list)\n",
    "print(\"Product of numbers:\", product)\n"
   ]
  },
  {
   "cell_type": "code",
   "execution_count": 3,
   "id": "4317ba78",
   "metadata": {},
   "outputs": [
    {
     "name": "stdout",
     "output_type": "stream",
     "text": [
      "Smallest number: 1\n"
     ]
    }
   ],
   "source": [
    "\n",
    "#solution 3\n",
    "def find_smallest_number(lst):\n",
    "    return min(lst)\n",
    "my_list = [5, 2, 9, 1, 7]\n",
    "smallest_number = find_smallest_number(my_list)\n",
    "print(\"Smallest number:\", smallest_number)\n"
   ]
  },
  {
   "cell_type": "code",
   "execution_count": 5,
   "id": "2fcf7337",
   "metadata": {},
   "outputs": [
    {
     "name": "stdout",
     "output_type": "stream",
     "text": [
      "Largest number: 9\n"
     ]
    }
   ],
   "source": [
    "#solution 4\n",
    "def find_largest_number(lst):\n",
    "    return max(lst)\n",
    "my_list = [5, 2, 9, 1, 7]\n",
    "largest_number = find_largest_number(my_list)\n",
    "print(\"Largest number:\", largest_number)\n"
   ]
  },
  {
   "cell_type": "code",
   "execution_count": 6,
   "id": "b08203df",
   "metadata": {},
   "outputs": [
    {
     "name": "stdout",
     "output_type": "stream",
     "text": [
      "Second largest number: 7\n"
     ]
    }
   ],
   "source": [
    "#solution 5\n",
    "def find_second_largest_number(lst):\n",
    "    unique_nums = set(lst)\n",
    "    unique_nums.remove(max(lst))\n",
    "    return max(unique_nums)\n",
    "my_list = [5, 2, 9, 1, 7]\n",
    "second_largest_number = find_second_largest_number(my_list)\n",
    "print(\"Second largest number:\", second_largest_number)\n"
   ]
  },
  {
   "cell_type": "code",
   "execution_count": 8,
   "id": "231ae483",
   "metadata": {},
   "outputs": [
    {
     "name": "stdout",
     "output_type": "stream",
     "text": [
      "3 largest elements: [9, 7, 5]\n"
     ]
    }
   ],
   "source": [
    "#solution 6\n",
    "def find_n_largest_elements(lst, n):\n",
    "    sorted_list = sorted(lst, reverse=True)\n",
    "    return sorted_list[:n]\n",
    "my_list = [5, 2, 9, 1, 7]\n",
    "n = 3\n",
    "n_largest_elements = find_n_largest_elements(my_list, n)\n",
    "print(f\"{n} largest elements:\", n_largest_elements)\n",
    "\n"
   ]
  },
  {
   "cell_type": "code",
   "execution_count": 9,
   "id": "9d664966",
   "metadata": {},
   "outputs": [
    {
     "name": "stdout",
     "output_type": "stream",
     "text": [
      "Even numbers: [2, 4]\n"
     ]
    }
   ],
   "source": [
    "#solution 7 \n",
    "def print_even_numbers(lst):\n",
    "    even_nums = [num for num in lst if num % 2 == 0]\n",
    "    return even_nums\n",
    "my_list = [1, 2, 3, 4, 5]\n",
    "even_nums = print_even_numbers(my_list)\n",
    "print(\"Even numbers:\", even_nums)\n"
   ]
  },
  {
   "cell_type": "code",
   "execution_count": 10,
   "id": "715023d6",
   "metadata": {},
   "outputs": [
    {
     "name": "stdout",
     "output_type": "stream",
     "text": [
      "Odd numbers: [1, 3, 5]\n"
     ]
    }
   ],
   "source": [
    "#solution 8\n",
    "def print_odd_numbers(lst):\n",
    "    odd_nums = [num for num in lst if num % 2 != 0]\n",
    "    return odd_nums\n",
    "my_list = [1, 2, 3, 4, 5]\n",
    "odd_nums = print_odd_numbers(my_list)\n",
    "print(\"Odd numbers:\", odd_nums)\n"
   ]
  },
  {
   "cell_type": "code",
   "execution_count": 11,
   "id": "38e05828",
   "metadata": {},
   "outputs": [
    {
     "name": "stdout",
     "output_type": "stream",
     "text": [
      "Filtered list: [[1, 2], [3, 4, 5], [6]]\n"
     ]
    }
   ],
   "source": [
    "#solution 9\n",
    "def remove_empty_lists(lst):\n",
    "    return [sub_lst for sub_lst in lst if sub_lst]\n",
    "my_list = [[], [1, 2], [], [3, 4, 5], [], [6]]\n",
    "filtered_list = remove_empty_lists(my_list)\n",
    "print(\"Filtered list:\", filtered_list)\n"
   ]
  },
  {
   "cell_type": "code",
   "execution_count": 12,
   "id": "fbaa07ee",
   "metadata": {},
   "outputs": [
    {
     "name": "stdout",
     "output_type": "stream",
     "text": [
      "Cloned list: [1, 2, 3, 4, 5]\n"
     ]
    }
   ],
   "source": [
    "#solution 10\n",
    "def clone_list(lst):\n",
    "    return lst.copy()\n",
    "my_list = [1, 2, 3, 4, 5]\n",
    "cloned_list = clone_list(my_list)\n",
    "print(\"Cloned list:\", cloned_list)\n"
   ]
  },
  {
   "cell_type": "code",
   "execution_count": 13,
   "id": "0779fd8c",
   "metadata": {},
   "outputs": [
    {
     "name": "stdout",
     "output_type": "stream",
     "text": [
      "Occurrences of 2 : 3\n"
     ]
    }
   ],
   "source": [
    "#solution 11\n",
    "def count_occurrences(lst, element):\n",
    "    return lst.count(element)\n",
    "my_list = [1, 2, 3, 4, 2, 5, 2]\n",
    "element = 2\n",
    "occurrences = count_occurrences(my_list, element)\n",
    "print(\"Occurrences of\", element, \":\", occurrences)\n"
   ]
  }
 ],
 "metadata": {
  "kernelspec": {
   "display_name": "Python 3 (ipykernel)",
   "language": "python",
   "name": "python3"
  },
  "language_info": {
   "codemirror_mode": {
    "name": "ipython",
    "version": 3
   },
   "file_extension": ".py",
   "mimetype": "text/x-python",
   "name": "python",
   "nbconvert_exporter": "python",
   "pygments_lexer": "ipython3",
   "version": "3.10.9"
  }
 },
 "nbformat": 4,
 "nbformat_minor": 5
}
