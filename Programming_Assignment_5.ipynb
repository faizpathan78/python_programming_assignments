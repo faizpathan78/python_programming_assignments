{
 "cells": [
  {
   "cell_type": "code",
   "execution_count": 37,
   "id": "e82e2859",
   "metadata": {},
   "outputs": [
    {
     "name": "stdout",
     "output_type": "stream",
     "text": [
      "LCM of 12 and 18 is 36\n"
     ]
    }
   ],
   "source": [
    "#solution 1\n",
    "def find_lcm(x, y):\n",
    "   \n",
    "    max_num = max(x, y)\n",
    "    lcm = max_num\n",
    "\n",
    "    while True:\n",
    "        if lcm % x == 0 and lcm % y == 0:\n",
    "            break\n",
    "        lcm += max_num\n",
    "\n",
    "    return lcm\n",
    "num1 = 12\n",
    "num2 = 18\n",
    "lcm = find_lcm(num1, num2)\n",
    "print(\"LCM of\", num1, \"and\", num2, \"is\", lcm)\n"
   ]
  },
  {
   "cell_type": "code",
   "execution_count": 38,
   "id": "77c8774d",
   "metadata": {},
   "outputs": [
    {
     "name": "stdout",
     "output_type": "stream",
     "text": [
      "HCF of 24 and 36 is 12\n"
     ]
    }
   ],
   "source": [
    "#solution 2\n",
    "def find_hcf(x, y):\n",
    "    while y:\n",
    "        x, y = y, x % y\n",
    "    return x\n",
    "\n",
    "num1 = 24\n",
    "num2 = 36\n",
    "hcf = find_hcf(num1, num2)\n",
    "print(\"HCF of\", num1, \"and\", num2, \"is\", hcf)\n",
    "\n"
   ]
  },
  {
   "cell_type": "code",
   "execution_count": 39,
   "id": "ee04a71a",
   "metadata": {},
   "outputs": [
    {
     "name": "stdout",
     "output_type": "stream",
     "text": [
      "Decimal: 42\n",
      "Binary: 0b101010\n",
      "Octal: 0o52\n",
      "Hexadecimal: 0x2a\n"
     ]
    }
   ],
   "source": [
    "\n",
    "#solution 3\n",
    "def decimal_to_binary(decimal):\n",
    "    return bin(decimal)\n",
    "\n",
    "def decimal_to_octal(decimal):\n",
    "    return oct(decimal)\n",
    "\n",
    "def decimal_to_hexadecimal(decimal):\n",
    "    return hex(decimal)\n",
    "decimal_num = 42\n",
    "binary_num = decimal_to_binary(decimal_num)\n",
    "octal_num = decimal_to_octal(decimal_num)\n",
    "hexadecimal_num = decimal_to_hexadecimal(decimal_num)\n",
    "\n",
    "print(\"Decimal:\", decimal_num)\n",
    "print(\"Binary:\", binary_num)\n",
    "print(\"Octal:\", octal_num)\n",
    "print(\"Hexadecimal:\", hexadecimal_num)\n",
    "\n"
   ]
  },
  {
   "cell_type": "code",
   "execution_count": 40,
   "id": "4882c4d3",
   "metadata": {},
   "outputs": [
    {
     "name": "stdout",
     "output_type": "stream",
     "text": [
      "ASCII value of A is 65\n"
     ]
    }
   ],
   "source": [
    "#solution 4\n",
    "def find_ascii(char):\n",
    "    return ord(char)\n",
    "character = 'A'\n",
    "ascii_value = find_ascii(character)\n",
    "print(\"ASCII value of\", character, \"is\", ascii_value)\n",
    "\n"
   ]
  },
  {
   "cell_type": "code",
   "execution_count": 41,
   "id": "68da9942",
   "metadata": {},
   "outputs": [
    {
     "name": "stdout",
     "output_type": "stream",
     "text": [
      "Addition: 15\n",
      "Subtraction: 5\n",
      "Multiplication: 50\n",
      "Division: 2.0\n"
     ]
    }
   ],
   "source": [
    "#solution 5\n",
    "def add(x, y):\n",
    "    return x + y\n",
    "\n",
    "def subtract(x, y):\n",
    "    return x - y\n",
    "\n",
    "def multiply(x, y):\n",
    "    return x * y\n",
    "\n",
    "def divide(x, y):\n",
    "    return x / y\n",
    "num1 = 10\n",
    "num2 = 5\n",
    "\n",
    "print(\"Addition:\", add(num1, num2))\n",
    "print(\"Subtraction:\", subtract(num1, num2))\n",
    "print(\"Multiplication:\", multiply(num1, num2))\n",
    "print(\"Division:\", divide(num1, num2))\n"
   ]
  }
 ],
 "metadata": {
  "kernelspec": {
   "display_name": "Python 3 (ipykernel)",
   "language": "python",
   "name": "python3"
  },
  "language_info": {
   "codemirror_mode": {
    "name": "ipython",
    "version": 3
   },
   "file_extension": ".py",
   "mimetype": "text/x-python",
   "name": "python",
   "nbconvert_exporter": "python",
   "pygments_lexer": "ipython3",
   "version": "3.10.9"
  }
 },
 "nbformat": 4,
 "nbformat_minor": 5
}
