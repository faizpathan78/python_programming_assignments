{
 "cells": [
  {
   "cell_type": "code",
   "execution_count": 25,
   "id": "1b93743a",
   "metadata": {},
   "outputs": [
    {
     "name": "stdout",
     "output_type": "stream",
     "text": [
      "Sum of the array: 15\n"
     ]
    }
   ],
   "source": [
    "#solution 1\n",
    "def sum_of_array(arr):\n",
    "    return sum(arr)\n",
    "my_array = [1, 2, 3, 4, 5]\n",
    "array_sum = sum_of_array(my_array)\n",
    "print(\"Sum of the array:\", array_sum)\n"
   ]
  },
  {
   "cell_type": "code",
   "execution_count": 26,
   "id": "afd64d02",
   "metadata": {},
   "outputs": [
    {
     "name": "stdout",
     "output_type": "stream",
     "text": [
      "Largest element in the array: 9\n"
     ]
    }
   ],
   "source": [
    "#solution 2\n",
    "def find_largest_element(arr):\n",
    "    return max(arr)\n",
    "my_array = [5, 2, 9, 1, 7]\n",
    "largest_element = find_largest_element(my_array)\n",
    "print(\"Largest element in the array:\", largest_element)\n"
   ]
  },
  {
   "cell_type": "code",
   "execution_count": 27,
   "id": "4f6c6428",
   "metadata": {},
   "outputs": [
    {
     "name": "stdout",
     "output_type": "stream",
     "text": [
      "Rotated array: [3, 4, 5, 1, 2]\n"
     ]
    }
   ],
   "source": [
    "\n",
    "#solution 3\n",
    "def rotate_array(arr, k):\n",
    "    k = k % len(arr)\n",
    "    rotated_array = arr[k:] + arr[:k]\n",
    "    return rotated_array\n",
    "my_array = [1, 2, 3, 4, 5]\n",
    "rotation_steps = 2\n",
    "rotated_array = rotate_array(my_array, rotation_steps)\n",
    "print(\"Rotated array:\", rotated_array)\n"
   ]
  },
  {
   "cell_type": "code",
   "execution_count": 28,
   "id": "0182d37a",
   "metadata": {},
   "outputs": [
    {
     "name": "stdout",
     "output_type": "stream",
     "text": [
      "New array after split and add: [3, 4, 5, 1, 2]\n"
     ]
    }
   ],
   "source": [
    "#solution 4\n",
    "def split_and_add_array(arr, split_index):\n",
    "    split_index = split_index % len(arr)\n",
    "    split_part = arr[:split_index]\n",
    "    remaining_part = arr[split_index:]\n",
    "    new_array = remaining_part + split_part\n",
    "    return new_array\n",
    "my_array = [1, 2, 3, 4, 5]\n",
    "split_index = 2\n",
    "new_array = split_and_add_array(my_array, split_index)\n",
    "print(\"New array after split and add:\", new_array)\n"
   ]
  },
  {
   "cell_type": "code",
   "execution_count": 29,
   "id": "8867ca3b",
   "metadata": {},
   "outputs": [
    {
     "name": "stdout",
     "output_type": "stream",
     "text": [
      "Is the array monotonic? True\n"
     ]
    }
   ],
   "source": [
    "#solution 5\n",
    "def is_monotonic_array(arr):\n",
    "    increasing = decreasing = True\n",
    "    for i in range(len(arr) - 1):\n",
    "        if arr[i] > arr[i + 1]:\n",
    "            increasing = False\n",
    "        if arr[i] < arr[i + 1]:\n",
    "            decreasing = False\n",
    "    return increasing or decreasing\n",
    "my_array = [1, 2, 3, 4, 5]\n",
    "is_monotonic = is_monotonic_array(my_array)\n",
    "print(\"Is the array monotonic?\", is_monotonic)\n"
   ]
  }
 ],
 "metadata": {
  "kernelspec": {
   "display_name": "Python 3 (ipykernel)",
   "language": "python",
   "name": "python3"
  },
  "language_info": {
   "codemirror_mode": {
    "name": "ipython",
    "version": 3
   },
   "file_extension": ".py",
   "mimetype": "text/x-python",
   "name": "python",
   "nbconvert_exporter": "python",
   "pygments_lexer": "ipython3",
   "version": "3.10.9"
  }
 },
 "nbformat": 4,
 "nbformat_minor": 5
}
