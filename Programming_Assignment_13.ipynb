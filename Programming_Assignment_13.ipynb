{
 "cells": [
  {
   "cell_type": "code",
   "execution_count": 38,
   "id": "6c4e2df4",
   "metadata": {},
   "outputs": [
    {
     "name": "stdout",
     "output_type": "stream",
     "text": [
      "18,22,24\n"
     ]
    }
   ],
   "source": [
    "#solution 1\n",
    "\n",
    "import math\n",
    "\n",
    "def calculate_values(d_values):\n",
    "    result = []\n",
    "    c = 50\n",
    "    h = 30\n",
    "\n",
    "    # Split the input string into a list of values\n",
    "    values = d_values.split(',')\n",
    "\n",
    "    for value in values:\n",
    "        d = int(value)\n",
    "        q = math.sqrt((2 * c * d) / h)\n",
    "        result.append(round(q))\n",
    "\n",
    "    return result\n",
    "input_sequence = \"100,150,180\"\n",
    "output_values = calculate_values(input_sequence)\n",
    "output_string = ','.join(str(value) for value in output_values)\n",
    "print(output_string)\n",
    "\n",
    "\n"
   ]
  },
  {
   "cell_type": "code",
   "execution_count": 40,
   "id": "d7cd9269",
   "metadata": {},
   "outputs": [
    {
     "name": "stdout",
     "output_type": "stream",
     "text": [
      "3 5 \n",
      "[0, 0, 0, 0, 0]\n",
      "[0, 1, 2, 3, 4]\n",
      "[0, 2, 4, 6, 8]\n"
     ]
    }
   ],
   "source": [
    "#solution 2\n",
    "X, Y = map(int, input().split())\n",
    "array = [[i * j for j in range(Y)] for i in range(X)]\n",
    "for row in array:\n",
    "    print(row)\n",
    "\n",
    "\n"
   ]
  },
  {
   "cell_type": "code",
   "execution_count": 41,
   "id": "e25d7d7c",
   "metadata": {},
   "outputs": [
    {
     "name": "stdout",
     "output_type": "stream",
     "text": [
      "without,hello,bag,world\n",
      "bag,hello,without,world\n"
     ]
    }
   ],
   "source": [
    "#solution 3\n",
    "\n",
    "words = input().split(',')\n",
    "sorted_words = sorted(words)\n",
    "output = ','.join(sorted_words)\n",
    "print(output)\n",
    "\n",
    "\n"
   ]
  },
  {
   "cell_type": "code",
   "execution_count": 42,
   "id": "54752ba5",
   "metadata": {},
   "outputs": [
    {
     "name": "stdout",
     "output_type": "stream",
     "text": [
      "hello world and practice makes perfect and hello world again\n",
      "again and hello makes perfect practice world\n"
     ]
    }
   ],
   "source": [
    "#solution 4\n",
    "\n",
    "words = input().split()\n",
    "unique_words = sorted(set(words))\n",
    "output = ' '.join(unique_words)\n",
    "print(output)\n"
   ]
  },
  {
   "cell_type": "code",
   "execution_count": 43,
   "id": "38c7dca8",
   "metadata": {},
   "outputs": [
    {
     "name": "stdout",
     "output_type": "stream",
     "text": [
      "Enter a sentence: hello world! 123\n",
      "LETTERS 10\n",
      "DIGITS 3\n"
     ]
    }
   ],
   "source": [
    "#solution 5\n",
    "sentence = input(\"Enter a sentence: \")\n",
    "\n",
    "letters = sum(1 for char in sentence if char.isalpha())\n",
    "digits = sum(1 for char in sentence if char.isdigit())\n",
    "\n",
    "print(\"LETTERS\", letters)\n",
    "print(\"DIGITS\", digits)\n",
    "\n"
   ]
  },
  {
   "cell_type": "code",
   "execution_count": 44,
   "id": "686b949c",
   "metadata": {},
   "outputs": [
    {
     "name": "stdout",
     "output_type": "stream",
     "text": [
      "Enter comma-separated passwords: ABd1234@1,a F1#,2w3E*,2We3345\n",
      "ABd1234@1\n"
     ]
    }
   ],
   "source": [
    "#solution 6\n",
    "import re\n",
    "\n",
    "def check_password(password):\n",
    "    if len(password) < 6 or len(password) > 12:\n",
    "        return False\n",
    "    if not re.search(\"[a-z]\", password):\n",
    "        return False\n",
    "    if not re.search(\"[A-Z]\", password):\n",
    "        return False\n",
    "    if not re.search(\"[0-9]\", password):\n",
    "        return False\n",
    "    if not re.search(\"[$#@]\", password):\n",
    "        return False\n",
    "    return True\n",
    "\n",
    "passwords = input(\"Enter comma-separated passwords: \")\n",
    "password_list = passwords.split(\",\")\n",
    "\n",
    "valid_passwords = []\n",
    "for password in password_list:\n",
    "    if check_password(password):\n",
    "        valid_passwords.append(password)\n",
    "\n",
    "output = \",\".join(valid_passwords)\n",
    "print(output)\n"
   ]
  }
 ],
 "metadata": {
  "kernelspec": {
   "display_name": "Python 3 (ipykernel)",
   "language": "python",
   "name": "python3"
  },
  "language_info": {
   "codemirror_mode": {
    "name": "ipython",
    "version": 3
   },
   "file_extension": ".py",
   "mimetype": "text/x-python",
   "name": "python",
   "nbconvert_exporter": "python",
   "pygments_lexer": "ipython3",
   "version": "3.10.9"
  }
 },
 "nbformat": 4,
 "nbformat_minor": 5
}
