{
 "cells": [
  {
   "cell_type": "code",
   "execution_count": 54,
   "id": "feebcb54",
   "metadata": {},
   "outputs": [
    {
     "name": "stdout",
     "output_type": "stream",
     "text": [
      "10 kilometers is equal to 6.21371 miles.\n"
     ]
    }
   ],
   "source": [
    "#solution 1\n",
    "def convert_km_to_miles(km):\n",
    "    miles = km * 0.621371\n",
    "    return miles\n",
    "kilometers = 10\n",
    "miles = convert_km_to_miles(kilometers)\n",
    "print(kilometers, \"kilometers is equal to\", miles, \"miles.\")\n",
    "\n",
    "\n"
   ]
  },
  {
   "cell_type": "code",
   "execution_count": 55,
   "id": "0449a448",
   "metadata": {},
   "outputs": [
    {
     "name": "stdout",
     "output_type": "stream",
     "text": [
      "25 degrees Celsius is equal to 77.0 degrees Fahrenheit.\n"
     ]
    }
   ],
   "source": [
    "#solution 2\n",
    "def convert_celsius_to_fahrenheit(celsius):\n",
    "    fahrenheit = (celsius * 9/5) + 32\n",
    "    return fahrenheit\n",
    "celsius = 25\n",
    "fahrenheit = convert_celsius_to_fahrenheit(celsius)\n",
    "print(celsius, \"degrees Celsius is equal to\", fahrenheit, \"degrees Fahrenheit.\")\n"
   ]
  },
  {
   "cell_type": "code",
   "execution_count": 56,
   "id": "121ffc50",
   "metadata": {},
   "outputs": [
    {
     "name": "stdout",
     "output_type": "stream",
     "text": [
      "Calendar:\n",
      "   September 2023\n",
      "Mo Tu We Th Fr Sa Su\n",
      "             1  2  3\n",
      " 4  5  6  7  8  9 10\n",
      "11 12 13 14 15 16 17\n",
      "18 19 20 21 22 23 24\n",
      "25 26 27 28 29 30\n",
      "\n"
     ]
    }
   ],
   "source": [
    "\n",
    "#solution 3\n",
    "import calendar\n",
    "\n",
    "def display_calendar(year, month):\n",
    "    cal = calendar.month(year, month)\n",
    "    return cal\n",
    "year = 2023\n",
    "month = 9\n",
    "\n",
    "cal = display_calendar(year, month)\n",
    "print(\"Calendar:\")\n",
    "print(cal)\n"
   ]
  },
  {
   "cell_type": "code",
   "execution_count": 57,
   "id": "b6501a62",
   "metadata": {},
   "outputs": [
    {
     "name": "stdout",
     "output_type": "stream",
     "text": [
      "Roots of the quadratic equation: ((1+0j), (3+0j))\n"
     ]
    }
   ],
   "source": [
    "#solution 4\n",
    "import cmath\n",
    "\n",
    "def solve_quadratic_equation(a, b, c):\n",
    "    discriminant = (b ** 2) - (4 * a * c)\n",
    "    root1 = (-b - cmath.sqrt(discriminant)) / (2 * a)\n",
    "    root2 = (-b + cmath.sqrt(discriminant)) / (2 * a)\n",
    "    return root1, root2\n",
    "a = 1\n",
    "b = -4\n",
    "c = 3\n",
    "\n",
    "roots = solve_quadratic_equation(a, b, c)\n",
    "print(\"Roots of the quadratic equation:\", roots)\n",
    "\n"
   ]
  },
  {
   "cell_type": "code",
   "execution_count": 58,
   "id": "e75c6918",
   "metadata": {},
   "outputs": [
    {
     "name": "stdout",
     "output_type": "stream",
     "text": [
      "After swapping: x = 10 and y = 5\n"
     ]
    }
   ],
   "source": [
    "#solution 5\n",
    "def swap_variables(a, b):\n",
    "    a, b = b, a\n",
    "    return a, b\n",
    "x = 5\n",
    "y = 10\n",
    "\n",
    "x, y = swap_variables(x, y)\n",
    "print(\"After swapping: x =\", x, \"and y =\", y)\n",
    "\n"
   ]
  }
 ],
 "metadata": {
  "kernelspec": {
   "display_name": "Python 3 (ipykernel)",
   "language": "python",
   "name": "python3"
  },
  "language_info": {
   "codemirror_mode": {
    "name": "ipython",
    "version": 3
   },
   "file_extension": ".py",
   "mimetype": "text/x-python",
   "name": "python",
   "nbconvert_exporter": "python",
   "pygments_lexer": "ipython3",
   "version": "3.10.9"
  }
 },
 "nbformat": 4,
 "nbformat_minor": 5
}
