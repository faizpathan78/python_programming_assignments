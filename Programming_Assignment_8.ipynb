{
 "cells": [
  {
   "cell_type": "code",
   "execution_count": 20,
   "id": "2dc23ec3",
   "metadata": {},
   "outputs": [
    {
     "name": "stdout",
     "output_type": "stream",
     "text": [
      "Matrix Addition Result:\n",
      "[10, 10, 10]\n",
      "[10, 10, 10]\n",
      "[10, 10, 10]\n"
     ]
    }
   ],
   "source": [
    "#solution 1\n",
    "def add_matrices(matrix1, matrix2):\n",
    "    result = []\n",
    "    for i in range(len(matrix1)):\n",
    "        row = []\n",
    "        for j in range(len(matrix1[0])):\n",
    "            row.append(matrix1[i][j] + matrix2[i][j])\n",
    "        result.append(row)\n",
    "    return result\n",
    "matrix1 = [[1, 2, 3], [4, 5, 6], [7, 8, 9]]\n",
    "matrix2 = [[9, 8, 7], [6, 5, 4], [3, 2, 1]]\n",
    "addition_result = add_matrices(matrix1, matrix2)\n",
    "print(\"Matrix Addition Result:\")\n",
    "for row in addition_result:\n",
    "    print(row)\n",
    "\n",
    "\n"
   ]
  },
  {
   "cell_type": "code",
   "execution_count": 21,
   "id": "6dfdb57e",
   "metadata": {},
   "outputs": [
    {
     "name": "stdout",
     "output_type": "stream",
     "text": [
      "Matrix Multiplication Result:\n",
      "[19, 22]\n",
      "[43, 50]\n"
     ]
    }
   ],
   "source": [
    "#solution 2\n",
    "def multiply_matrices(matrix1, matrix2):\n",
    "    result = []\n",
    "    for i in range(len(matrix1)):\n",
    "        row = []\n",
    "        for j in range(len(matrix2[0])):\n",
    "            element = 0\n",
    "            for k in range(len(matrix2)):\n",
    "                element += matrix1[i][k] * matrix2[k][j]\n",
    "            row.append(element)\n",
    "        result.append(row)\n",
    "    return result\n",
    "matrix1 = [[1, 2], [3, 4]]\n",
    "matrix2 = [[5, 6], [7, 8]]\n",
    "multiplication_result = multiply_matrices(matrix1, matrix2)\n",
    "print(\"Matrix Multiplication Result:\")\n",
    "for row in multiplication_result:\n",
    "    print(row)\n",
    "\n",
    "\n"
   ]
  },
  {
   "cell_type": "code",
   "execution_count": 22,
   "id": "028fb7cf",
   "metadata": {},
   "outputs": [
    {
     "name": "stdout",
     "output_type": "stream",
     "text": [
      "Transposed Matrix:\n",
      "[1, 4, 7]\n",
      "[2, 5, 8]\n",
      "[3, 6, 9]\n"
     ]
    }
   ],
   "source": [
    "\n",
    "#solution 3\n",
    "def transpose_matrix(matrix):\n",
    "    result = []\n",
    "    for j in range(len(matrix[0])):\n",
    "        row = []\n",
    "        for i in range(len(matrix)):\n",
    "            row.append(matrix[i][j])\n",
    "        result.append(row)\n",
    "    return result\n",
    "matrix = [[1, 2, 3], [4, 5, 6], [7, 8, 9]]\n",
    "transpose_result = transpose_matrix(matrix)\n",
    "print(\"Transposed Matrix:\")\n",
    "for row in transpose_result:\n",
    "    print(row)\n",
    "\n",
    "\n"
   ]
  },
  {
   "cell_type": "code",
   "execution_count": 23,
   "id": "18965e65",
   "metadata": {},
   "outputs": [
    {
     "name": "stdout",
     "output_type": "stream",
     "text": [
      "Sorted Words in Alphabetic Order: This an example is sentence sort the to words\n"
     ]
    }
   ],
   "source": [
    "#solution 4\n",
    "def sort_words(sentence):\n",
    "    words = sentence.split()\n",
    "    sorted_words = sorted(words)\n",
    "    return ' '.join(sorted_words)\n",
    "sentence = \"This is an example sentence to sort the words\"\n",
    "sorted_sentence = sort_words(sentence)\n",
    "print(\"Sorted Words in Alphabetic Order:\", sorted_sentence)\n",
    "\n",
    "\n"
   ]
  },
  {
   "cell_type": "code",
   "execution_count": 24,
   "id": "a2308f09",
   "metadata": {},
   "outputs": [
    {
     "name": "stdout",
     "output_type": "stream",
     "text": [
      "Text without Punctuation: Hello How are you Im doing great\n"
     ]
    }
   ],
   "source": [
    "#solution 5\n",
    "import string\n",
    "\n",
    "def remove_punctuation(text):\n",
    "    translator = str.maketrans('', '', string.punctuation)\n",
    "    result = text.translate(translator)\n",
    "    return result\n",
    "text = \"Hello! How are you? I'm doing great.\"\n",
    "text_without_punctuation = remove_punctuation(text)\n",
    "print(\"Text without Punctuation:\", text_without_punctuation)\n",
    "\n"
   ]
  }
 ],
 "metadata": {
  "kernelspec": {
   "display_name": "Python 3 (ipykernel)",
   "language": "python",
   "name": "python3"
  },
  "language_info": {
   "codemirror_mode": {
    "name": "ipython",
    "version": 3
   },
   "file_extension": ".py",
   "mimetype": "text/x-python",
   "name": "python",
   "nbconvert_exporter": "python",
   "pygments_lexer": "ipython3",
   "version": "3.10.9"
  }
 },
 "nbformat": 4,
 "nbformat_minor": 5
}
