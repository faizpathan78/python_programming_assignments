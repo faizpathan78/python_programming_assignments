{
 "cells": [
  {
   "cell_type": "code",
   "execution_count": 32,
   "id": "3dd90431",
   "metadata": {},
   "outputs": [
    {
     "name": "stdout",
     "output_type": "stream",
     "text": [
      "0\n",
      "7\n",
      "14\n",
      "21\n",
      "28\n",
      "35\n",
      "42\n",
      "49\n"
     ]
    }
   ],
   "source": [
    "#solution 1\n",
    "\n",
    "class DivisibleBySeven:\n",
    "    def __init__(self, n):\n",
    "        self.n = n\n",
    "    \n",
    "    def generate_numbers(self):\n",
    "        for num in range(self.n + 1):\n",
    "            if num % 7 == 0:\n",
    "                yield num\n",
    "\n",
    "divisible_seven = DivisibleBySeven(50)\n",
    "\n",
    "for number in divisible_seven.generate_numbers():\n",
    "    print(number)\n",
    "\n"
   ]
  },
  {
   "cell_type": "code",
   "execution_count": 33,
   "id": "b84dd350",
   "metadata": {},
   "outputs": [
    {
     "name": "stdout",
     "output_type": "stream",
     "text": [
      "Enter a sentence: i love the paris , love is in the air\n",
      ",:1\n",
      "air:1\n",
      "i:1\n",
      "in:1\n",
      "is:1\n",
      "love:2\n",
      "paris:1\n",
      "the:2\n"
     ]
    }
   ],
   "source": [
    "#solution 2\n",
    "def word_frequency(text):\n",
    "    words = text.split()\n",
    "    frequency = {}\n",
    "\n",
    "    for word in words:\n",
    "        frequency[word] = frequency.get(word, 0) + 1\n",
    "\n",
    "    return frequency\n",
    "\n",
    "\n",
    "def print_word_frequency(frequency):\n",
    "    sorted_words = sorted(frequency.keys())\n",
    "\n",
    "    for word in sorted_words:\n",
    "        print(f\"{word}:{frequency[word]}\")\n",
    "text = input(\"Enter a sentence: \")\n",
    "frequency = word_frequency(text)\n",
    "print_word_frequency(frequency)\n",
    "\n",
    "\n"
   ]
  },
  {
   "cell_type": "code",
   "execution_count": 34,
   "id": "d65bded5",
   "metadata": {},
   "outputs": [
    {
     "name": "stdout",
     "output_type": "stream",
     "text": [
      "Unknown\n",
      "Male\n",
      "Female\n"
     ]
    }
   ],
   "source": [
    "#solution 3\n",
    "\n",
    "class Person:\n",
    "    def getGender(self):\n",
    "        print(\"Unknown\")\n",
    "\n",
    "\n",
    "class Male(Person):\n",
    "    def getGender(self):\n",
    "        print(\"Male\")\n",
    "\n",
    "\n",
    "class Female(Person):\n",
    "    def getGender(self):\n",
    "        print(\"Female\")\n",
    "\n",
    "person = Person()\n",
    "male = Male()\n",
    "female = Female()\n",
    "person.getGender()  \n",
    "male.getGender()    \n",
    "female.getGender() \n",
    "\n"
   ]
  },
  {
   "cell_type": "code",
   "execution_count": 35,
   "id": "12791a92",
   "metadata": {},
   "outputs": [
    {
     "name": "stdout",
     "output_type": "stream",
     "text": [
      "I love hockey.\n",
      "I love football.\n",
      "I playing hockey.\n",
      "I playing football.\n",
      "You love hockey.\n",
      "You love football.\n",
      "You playing hockey.\n",
      "You playing football.\n"
     ]
    }
   ],
   "source": [
    "#solution 4\n",
    "\n",
    "\n",
    "subjects = [\"I\", \"You\"]\n",
    "verbs = [\"love\", \"playing\"]\n",
    "objects = [\"hockey\", \"football\"]\n",
    "\n",
    "sentences = []\n",
    "\n",
    "for subject in subjects:\n",
    "    for verb in verbs:\n",
    "        for obj in objects:\n",
    "            sentence = f\"{subject} {verb} {obj}.\"\n",
    "            sentences.append(sentence)\n",
    "\n",
    "for sentence in sentences:\n",
    "    print(sentence)\n"
   ]
  },
  {
   "cell_type": "code",
   "execution_count": 36,
   "id": "5e1d70c2",
   "metadata": {},
   "outputs": [
    {
     "name": "stdout",
     "output_type": "stream",
     "text": [
      "Original string: hello world!hello world!hello world!hello world!\n",
      "Compressed data: b'\\x1f\\x8b\\x08\\x00\\xf2h\\x9dd\\x02\\xff\\xcbH\\xcd\\xc9\\xc9W(\\xcf/\\xcaIQ\\xcc \\x82\\r\\x00\\xd3\\xe6\\xcf\\xae0\\x00\\x00\\x00'\n",
      "Decompressed string: hello world!hello world!hello world!hello world!\n"
     ]
    }
   ],
   "source": [
    "#solution 5\n",
    "import gzip\n",
    "\n",
    "def compress_string(input_string):\n",
    "    compressed_data = gzip.compress(input_string.encode())\n",
    "    return compressed_data\n",
    "\n",
    "def decompress_string(compressed_data):\n",
    "    decompressed_data = gzip.decompress(compressed_data).decode()\n",
    "    return decompressed_data\n",
    "\n",
    "original_string = \"hello world!hello world!hello world!hello world!\"\n",
    "print(\"Original string:\", original_string)\n",
    "\n",
    "compressed_data = compress_string(original_string)\n",
    "print(\"Compressed data:\", compressed_data)\n",
    "\n",
    "decompressed_string = decompress_string(compressed_data)\n",
    "print(\"Decompressed string:\", decompressed_string)\n"
   ]
  },
  {
   "cell_type": "code",
   "execution_count": 37,
   "id": "6517314f",
   "metadata": {},
   "outputs": [
    {
     "name": "stdout",
     "output_type": "stream",
     "text": [
      "Element found at index: 5\n"
     ]
    }
   ],
   "source": [
    "#solution 6\n",
    "def binary_search(arr, target):\n",
    "    left = 0\n",
    "    right = len(arr) - 1\n",
    "\n",
    "    while left <= right:\n",
    "        mid = (left + right) // 2\n",
    "\n",
    "        if arr[mid] == target:\n",
    "            return mid\n",
    "        elif arr[mid] < target:\n",
    "            left = mid + 1\n",
    "        else:\n",
    "            right = mid - 1\n",
    "\n",
    "    \n",
    "    return -1\n",
    "my_list = [2, 5, 8, 12, 16, 23, 38, 56, 72, 91]\n",
    "target_element = 23\n",
    "index = binary_search(my_list, target_element)\n",
    "\n",
    "if index != -1:\n",
    "    print(\"Element found at index:\", index)\n",
    "else:\n",
    "    print(\"Element not found in the list.\")\n"
   ]
  }
 ],
 "metadata": {
  "kernelspec": {
   "display_name": "Python 3 (ipykernel)",
   "language": "python",
   "name": "python3"
  },
  "language_info": {
   "codemirror_mode": {
    "name": "ipython",
    "version": 3
   },
   "file_extension": ".py",
   "mimetype": "text/x-python",
   "name": "python",
   "nbconvert_exporter": "python",
   "pygments_lexer": "ipython3",
   "version": "3.10.9"
  }
 },
 "nbformat": 4,
 "nbformat_minor": 5
}
