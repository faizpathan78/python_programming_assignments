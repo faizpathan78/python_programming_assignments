{
 "cells": [
  {
   "cell_type": "code",
   "execution_count": 11,
   "id": "b6f377a5",
   "metadata": {},
   "outputs": [
    {
     "name": "stdout",
     "output_type": "stream",
     "text": [
      "[1, 3, 5]\n"
     ]
    }
   ],
   "source": [
    "#solution 1\n",
    "  \n",
    "\n",
    "def filter_non_negative_integers(input_list):\n",
    "    filtered_list = [num for num in input_list if isinstance(num, int)]\n",
    "    return filtered_list\n",
    "\n",
    "input_list = [1, \"apple\", 3, \"banana\", 5, \"cherry\"]\n",
    "filtered_list = filter_non_negative_integers(input_list)\n",
    "print(filtered_list) \n"
   ]
  },
  {
   "cell_type": "code",
   "execution_count": 12,
   "id": "c15e37c7",
   "metadata": {},
   "outputs": [
    {
     "name": "stdout",
     "output_type": "stream",
     "text": [
      "!DLROw OLLEh\n"
     ]
    }
   ],
   "source": [
    "#solution 2\n",
    "def reverse_string_with_opposite_case(input_string):\n",
    "    reversed_string = input_string[::-1]\n",
    "    reversed_string_with_opposite_case = ''.join(\n",
    "        [char.lower() if char.isupper() else char.upper() for char in reversed_string]\n",
    "    )\n",
    "    return reversed_string_with_opposite_case\n",
    "\n",
    "input_string = \"Hello World!\"\n",
    "reversed_string = reverse_string_with_opposite_case(input_string)\n",
    "print(reversed_string)\n"
   ]
  },
  {
   "cell_type": "code",
   "execution_count": 13,
   "id": "dd7b1830",
   "metadata": {},
   "outputs": [
    {
     "name": "stdout",
     "output_type": "stream",
     "text": [
      "1\n",
      "[2, 3, 4, 5]\n",
      "6\n"
     ]
    }
   ],
   "source": [
    "#solution 3\n",
    "writeyourcodehere = [1, 2, 3, 4, 5, 6]\n",
    "first = writeyourcodehere[0]\n",
    "middle = writeyourcodehere[1:-1]\n",
    "last = writeyourcodehere[-1]\n",
    "\n",
    "print(first)  \n",
    "print(middle) \n",
    "print(last)  \n",
    "\n"
   ]
  },
  {
   "cell_type": "code",
   "execution_count": 14,
   "id": "06af4475",
   "metadata": {},
   "outputs": [
    {
     "name": "stdout",
     "output_type": "stream",
     "text": [
      "120\n"
     ]
    }
   ],
   "source": [
    "#solution 4\n",
    " \n",
    "def recursive_factorial(n):\n",
    "    if n == 1 :\n",
    "        return 1\n",
    "    else:\n",
    "        return n * recursive_factorial(n-1)\n",
    "print(recursive_factorial(5))"
   ]
  },
  {
   "cell_type": "code",
   "execution_count": 15,
   "id": "92afedfe",
   "metadata": {},
   "outputs": [
    {
     "name": "stdout",
     "output_type": "stream",
     "text": [
      "[3, 2, 4, 4, 1, 1]\n",
      "[7, 8, 1, 2, 3, 4, 9]\n"
     ]
    }
   ],
   "source": [
    "#solution 5\n",
    "def move_to_end(lst, element):\n",
    "    count = lst.count(element)\n",
    "    lst = [x for x in lst if x != element]\n",
    "    lst.extend([element] * count)\n",
    "    return lst\n",
    "\n",
    "print(move_to_end([1, 3, 2, 4, 4, 1], 1))\n",
    "print(move_to_end([7, 8, 9, 1, 2, 3, 4], 9))\n",
    "\n"
   ]
  }
 ],
 "metadata": {
  "kernelspec": {
   "display_name": "Python 3 (ipykernel)",
   "language": "python",
   "name": "python3"
  },
  "language_info": {
   "codemirror_mode": {
    "name": "ipython",
    "version": 3
   },
   "file_extension": ".py",
   "mimetype": "text/x-python",
   "name": "python",
   "nbconvert_exporter": "python",
   "pygments_lexer": "ipython3",
   "version": "3.10.9"
  }
 },
 "nbformat": 4,
 "nbformat_minor": 5
}
